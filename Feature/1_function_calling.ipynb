{
 "cells": [
  {
   "cell_type": "markdown",
   "metadata": {},
   "source": [
    "# Function Calling\n",
    "ただしこの方式は非推奨です。並列関数呼び出し（Parallel Function Clling）を使用してください。"
   ]
  },
  {
   "cell_type": "code",
   "execution_count": 9,
   "metadata": {},
   "outputs": [],
   "source": [
    "# 次の３つの値をご自身のものに置き換えてください。Replace the following three values with your resources. \n",
    "deployment = '<your-aoai-deployment-name>'\n",
    "apikey = '<your-aoai-api-key>'\n",
    "base = 'https://<your-aoai-resource-name>.openai.azure.com'"
   ]
  },
  {
   "cell_type": "code",
   "execution_count": null,
   "metadata": {},
   "outputs": [],
   "source": [
    "!python -m pip install openai\n",
    "import openai"
   ]
  },
  {
   "cell_type": "code",
   "execution_count": 10,
   "metadata": {},
   "outputs": [],
   "source": [
    "openai.api_base = base\n",
    "openai.api_key = apikey\n",
    "openai.api_type = 'azure'\n",
    "openai.api_version = '2023-07-01-preview'"
   ]
  },
  {
   "cell_type": "code",
   "execution_count": 7,
   "metadata": {},
   "outputs": [],
   "source": [
    "functions = [\n",
    "    {\n",
    "        \"name\": \"get_recipe\",\n",
    "        \"description\": \"与えられた料理のレシピを取得します。\",\n",
    "        \"parameters\": {\n",
    "            \"type\": \"object\",\n",
    "            \"properties\": {\n",
    "                \"food\": {\n",
    "                    \"type\": \"string\",\n",
    "                    \"description\": \"レシピを検索する料理、例：ポトフ、ピラフ\"\n",
    "                }\n",
    "            },\n",
    "            \"required\": [\"food\"]\n",
    "        }\n",
    "    }\n",
    "]"
   ]
  },
  {
   "cell_type": "code",
   "execution_count": 11,
   "metadata": {},
   "outputs": [],
   "source": [
    "response = openai.ChatCompletion.create(\n",
    "    deployment_id=deployment,\n",
    "    messages=[\n",
    "        {\"role\": \"system\", \"content\": \"あなたはさまざまな事をサポートするアシスタントです。\"},\n",
    "        {\"role\": \"user\", \"content\": \"今日の夕食は外食にしようと思ったけど、大根が余っているからぶり大根を作ろうかな。\"},\n",
    "    ],\n",
    "    functions=functions,\n",
    "    function_call=\"auto\",\n",
    ")"
   ]
  },
  {
   "cell_type": "code",
   "execution_count": 13,
   "metadata": {},
   "outputs": [
    {
     "data": {
      "text/plain": [
       "<OpenAIObject at 0x11b2659d0> JSON: {\n",
       "  \"index\": 0,\n",
       "  \"finish_reason\": \"function_call\",\n",
       "  \"message\": {\n",
       "    \"role\": \"assistant\",\n",
       "    \"function_call\": {\n",
       "      \"name\": \"get_recipe\",\n",
       "      \"arguments\": \"{\\n  \\\"food\\\": \\\"\\u3076\\u308a\\u5927\\u6839\\\"\\n}\"\n",
       "    }\n",
       "  },\n",
       "  \"content_filter_results\": {}\n",
       "}"
      ]
     },
     "execution_count": 13,
     "metadata": {},
     "output_type": "execute_result"
    }
   ],
   "source": [
    "response.choices[0]"
   ]
  }
 ],
 "metadata": {
  "kernelspec": {
   "display_name": "Python 3 (ipykernel)",
   "language": "python",
   "name": "python3"
  },
  "language_info": {
   "codemirror_mode": {
    "name": "ipython",
    "version": 3
   },
   "file_extension": ".py",
   "mimetype": "text/x-python",
   "name": "python",
   "nbconvert_exporter": "python",
   "pygments_lexer": "ipython3",
   "version": "3.11.6"
  }
 },
 "nbformat": 4,
 "nbformat_minor": 4
}
