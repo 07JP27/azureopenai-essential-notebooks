{
 "cells": [
  {
   "cell_type": "markdown",
   "id": "c198381d-ac8f-4912-b1ab-d4e8d8404ad8",
   "metadata": {},
   "source": [
    "# Parallel Function Calling\n",
    "\n",
    "利用できるモデルとAPIバージョンが限られています。\n",
    "https://learn.microsoft.com/ja-jp/azure/ai-services/openai/how-to/function-calling?tabs=python#parallel-function-calling"
   ]
  },
  {
   "cell_type": "code",
   "execution_count": 1,
   "id": "6a6e5572-5b5a-4cf5-9121-8e2de5c90955",
   "metadata": {},
   "outputs": [
    {
     "name": "stdout",
     "output_type": "stream",
     "text": [
      "Requirement already satisfied: openai in /opt/conda/lib/python3.11/site-packages (1.8.0)\n",
      "Requirement already satisfied: anyio<5,>=3.5.0 in /opt/conda/lib/python3.11/site-packages (from openai) (4.0.0)\n",
      "Requirement already satisfied: distro<2,>=1.7.0 in /opt/conda/lib/python3.11/site-packages (from openai) (1.9.0)\n",
      "Requirement already satisfied: httpx<1,>=0.23.0 in /opt/conda/lib/python3.11/site-packages (from openai) (0.26.0)\n",
      "Requirement already satisfied: pydantic<3,>=1.9.0 in /opt/conda/lib/python3.11/site-packages (from openai) (2.5.3)\n",
      "Requirement already satisfied: sniffio in /opt/conda/lib/python3.11/site-packages (from openai) (1.3.0)\n",
      "Requirement already satisfied: tqdm>4 in /opt/conda/lib/python3.11/site-packages (from openai) (4.66.1)\n",
      "Requirement already satisfied: typing-extensions<5,>=4.7 in /opt/conda/lib/python3.11/site-packages (from openai) (4.8.0)\n",
      "Requirement already satisfied: idna>=2.8 in /opt/conda/lib/python3.11/site-packages (from anyio<5,>=3.5.0->openai) (3.4)\n",
      "Requirement already satisfied: certifi in /opt/conda/lib/python3.11/site-packages (from httpx<1,>=0.23.0->openai) (2023.7.22)\n",
      "Requirement already satisfied: httpcore==1.* in /opt/conda/lib/python3.11/site-packages (from httpx<1,>=0.23.0->openai) (1.0.2)\n",
      "Requirement already satisfied: h11<0.15,>=0.13 in /opt/conda/lib/python3.11/site-packages (from httpcore==1.*->httpx<1,>=0.23.0->openai) (0.14.0)\n",
      "Requirement already satisfied: annotated-types>=0.4.0 in /opt/conda/lib/python3.11/site-packages (from pydantic<3,>=1.9.0->openai) (0.6.0)\n",
      "Requirement already satisfied: pydantic-core==2.14.6 in /opt/conda/lib/python3.11/site-packages (from pydantic<3,>=1.9.0->openai) (2.14.6)\n",
      "Requirement already satisfied: python-dotenv in /opt/conda/lib/python3.11/site-packages (1.0.0)\n"
     ]
    }
   ],
   "source": [
    "!python -m pip install openai\n",
    "!python -m pip install python-dotenv\n",
    "import json\n",
    "from openai import AzureOpenAI\n",
    "from dotenv import load_dotenv\n",
    "import os"
   ]
  },
  {
   "cell_type": "code",
   "execution_count": 2,
   "id": "7dfd83d6-6181-459b-8ce1-a60bc79b7bcd",
   "metadata": {},
   "outputs": [],
   "source": [
    "load_dotenv()\n",
    "deployment = os.environ['DEPLOYMENT']\n",
    "apikey = os.environ['API_KEY']\n",
    "base = os.environ['BASE']\n",
    "api_version=os.environ['API_VERSION']"
   ]
  },
  {
   "cell_type": "code",
   "execution_count": 3,
   "id": "e05ef5d7-4d7d-4c1b-821d-14921a7bd582",
   "metadata": {},
   "outputs": [],
   "source": [
    "client = AzureOpenAI(\n",
    "  azure_endpoint = base, \n",
    "  api_key=apikey,  \n",
    "  api_version=api_version\n",
    ")"
   ]
  },
  {
   "cell_type": "code",
   "execution_count": 4,
   "id": "7eb7ea52-bbb4-4351-91a4-9f7214cb40a6",
   "metadata": {},
   "outputs": [],
   "source": [
    "TOOLS = [\n",
    "    {\n",
    "        \"type\":\"function\",\n",
    "        \"function\": {\n",
    "            \"name\": \"switch_airconditioner\",\n",
    "            \"description\": \"エアコンの電源をスイッチします。\",\n",
    "            \"parameters\": {\n",
    "                \"type\": \"object\",\n",
    "                \"properties\": {\n",
    "                    \"switch\": {\n",
    "                        \"type\": \"boolean\",\n",
    "                        \"description\": \"オンの場合はtrue,オフの場合はfalse\"\n",
    "                    }\n",
    "                },\n",
    "                \"required\": [\"switch\"]\n",
    "            }\n",
    "          }\n",
    "    },\n",
    "    {\n",
    "        \"type\":\"function\",\n",
    "        \"function\": {\n",
    "            \"name\": \"switch_lamp\",\n",
    "            \"description\": \"照明のスイッチをオン・オフします。\",\n",
    "            \"parameters\": {\n",
    "                \"type\": \"object\",\n",
    "                \"properties\": {\n",
    "                    \"switch\": {\n",
    "                        \"type\": \"boolean\",\n",
    "                        \"description\": \"オンの場合はtrue,オフの場合はfalse\"\n",
    "                    }\n",
    "                },\n",
    "                \"required\": [\"switch\"]\n",
    "            }\n",
    "          }\n",
    "    }\n",
    "]"
   ]
  },
  {
   "cell_type": "markdown",
   "id": "0187b634-01e9-4edf-838a-09c8c1efc312",
   "metadata": {},
   "source": [
    "# 並列機能呼び出しを期待する入力"
   ]
  },
  {
   "cell_type": "code",
   "execution_count": 5,
   "id": "9189a4ff-cd20-4b70-90d7-d8690f89819a",
   "metadata": {},
   "outputs": [
    {
     "name": "stdout",
     "output_type": "stream",
     "text": [
      "Function(arguments='{\"switch\": true}', name='switch_airconditioner')\n",
      "Function(arguments='{\"switch\": true}', name='switch_lamp')\n"
     ]
    }
   ],
   "source": [
    "response = client.chat.completions.create(\n",
    "    model=deployment,\n",
    "    messages=[\n",
    "        {\"role\": \"system\", \"content\": \"You are a helpful assistant.\"},\n",
    "        {\"role\": \"user\", \"content\": \"エアコンと電気をつけてください。\"}\n",
    "    ],\n",
    "    tools=TOOLS,\n",
    "    tool_choice=\"auto\",\n",
    "    temperature=0,\n",
    ")\n",
    "\n",
    "if response.choices[0].finish_reason=='tool_calls':\n",
    "    for tool_call in response.choices[0].message.tool_calls:\n",
    "        print(tool_call.function)"
   ]
  },
  {
   "cell_type": "markdown",
   "id": "4b6b50a9-b797-46d0-8464-332b08024fec",
   "metadata": {},
   "source": [
    "# 単一機能呼び出しを期待する入力"
   ]
  },
  {
   "cell_type": "code",
   "execution_count": 6,
   "id": "477ffcde-93df-4f40-a1bc-eca1dc351323",
   "metadata": {},
   "outputs": [
    {
     "name": "stdout",
     "output_type": "stream",
     "text": [
      "Function(arguments='{\"switch\":false}', name='switch_airconditioner')\n"
     ]
    }
   ],
   "source": [
    "response = client.chat.completions.create(\n",
    "    model=deployment,\n",
    "    messages=[\n",
    "        {\"role\": \"system\", \"content\": \"You are a helpful assistant.\"},\n",
    "        {\"role\": \"user\", \"content\": \"エアコンを消してください。\"}\n",
    "    ],\n",
    "    tools=TOOLS,\n",
    "    tool_choice=\"auto\",\n",
    "    temperature=0,\n",
    ")\n",
    "\n",
    "if response.choices[0].finish_reason=='tool_calls':\n",
    "    for tool_call in response.choices[0].message.tool_calls:\n",
    "        print(tool_call.function)"
   ]
  },
  {
   "cell_type": "code",
   "execution_count": null,
   "id": "555a954c-8734-45ac-83bd-452c2d094ff1",
   "metadata": {},
   "outputs": [],
   "source": []
  }
 ],
 "metadata": {
  "kernelspec": {
   "display_name": "Python 3 (ipykernel)",
   "language": "python",
   "name": "python3"
  },
  "language_info": {
   "codemirror_mode": {
    "name": "ipython",
    "version": 3
   },
   "file_extension": ".py",
   "mimetype": "text/x-python",
   "name": "python",
   "nbconvert_exporter": "python",
   "pygments_lexer": "ipython3",
   "version": "3.11.6"
  }
 },
 "nbformat": 4,
 "nbformat_minor": 5
}
