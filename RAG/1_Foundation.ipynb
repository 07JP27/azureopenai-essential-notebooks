{
 "cells": [
  {
   "attachments": {},
   "cell_type": "markdown",
   "id": "be202ba7-e342-48f6-896a-fdb389b033be",
   "metadata": {},
   "source": [
    "# RAGの基本的な動作\n",
    "RAG:Retrieval Augmented Generation(検索拡張生成)は外部ナレッジを元に回答を生成するLLMの使い方です。RAGは大きく分けて画像の様に３つのステップから成り立っています。\n",
    "\n",
    "[画像が表示されない場合はこちら](images/foundation.png)\n",
    "\n",
    "![](images/foundation.png)\n"
   ]
  },
  {
   "cell_type": "markdown",
   "id": "414d350b-4b65-4b16-bdba-2b3f8c121822",
   "metadata": {},
   "source": [
    "# 事前準備"
   ]
  },
  {
   "cell_type": "code",
   "execution_count": 1,
   "id": "923cdd3e-eec2-4a15-be88-eb67e2782ee1",
   "metadata": {
    "scrolled": true
   },
   "outputs": [
    {
     "name": "stdout",
     "output_type": "stream",
     "text": [
      "Requirement already satisfied: openai in /opt/conda/lib/python3.11/site-packages (1.8.0)\n",
      "Requirement already satisfied: anyio<5,>=3.5.0 in /opt/conda/lib/python3.11/site-packages (from openai) (4.0.0)\n",
      "Requirement already satisfied: distro<2,>=1.7.0 in /opt/conda/lib/python3.11/site-packages (from openai) (1.9.0)\n",
      "Requirement already satisfied: httpx<1,>=0.23.0 in /opt/conda/lib/python3.11/site-packages (from openai) (0.26.0)\n",
      "Requirement already satisfied: pydantic<3,>=1.9.0 in /opt/conda/lib/python3.11/site-packages (from openai) (2.5.3)\n",
      "Requirement already satisfied: sniffio in /opt/conda/lib/python3.11/site-packages (from openai) (1.3.0)\n",
      "Requirement already satisfied: tqdm>4 in /opt/conda/lib/python3.11/site-packages (from openai) (4.66.1)\n",
      "Requirement already satisfied: typing-extensions<5,>=4.7 in /opt/conda/lib/python3.11/site-packages (from openai) (4.8.0)\n",
      "Requirement already satisfied: idna>=2.8 in /opt/conda/lib/python3.11/site-packages (from anyio<5,>=3.5.0->openai) (3.4)\n",
      "Requirement already satisfied: certifi in /opt/conda/lib/python3.11/site-packages (from httpx<1,>=0.23.0->openai) (2023.7.22)\n",
      "Requirement already satisfied: httpcore==1.* in /opt/conda/lib/python3.11/site-packages (from httpx<1,>=0.23.0->openai) (1.0.2)\n",
      "Requirement already satisfied: h11<0.15,>=0.13 in /opt/conda/lib/python3.11/site-packages (from httpcore==1.*->httpx<1,>=0.23.0->openai) (0.14.0)\n",
      "Requirement already satisfied: annotated-types>=0.4.0 in /opt/conda/lib/python3.11/site-packages (from pydantic<3,>=1.9.0->openai) (0.6.0)\n",
      "Requirement already satisfied: pydantic-core==2.14.6 in /opt/conda/lib/python3.11/site-packages (from pydantic<3,>=1.9.0->openai) (2.14.6)\n"
     ]
    }
   ],
   "source": [
    "!python -m pip install openai\n",
    "import json\n",
    "from openai import AzureOpenAI"
   ]
  },
  {
   "cell_type": "code",
   "execution_count": 52,
   "id": "d3eba15e-2871-486e-bab0-94c69a128087",
   "metadata": {},
   "outputs": [],
   "source": [
    "# 次の３つの値をご自身のものに置き換えてください。Replace the following three values with your resources. \n",
    "deployment = '<your-aoai-deployment-name>'\n",
    "apikey = '<your-aoai-api-key>'\n",
    "base = 'https://<your-aoai-resource-name>.openai.azure.com'\n",
    "api_version=\"2023-12-01-preview\""
   ]
  },
  {
   "cell_type": "code",
   "execution_count": 53,
   "id": "38dc09bf-0271-472e-b526-4626e4f1e850",
   "metadata": {},
   "outputs": [],
   "source": [
    "client = AzureOpenAI(\n",
    "  azure_endpoint = base, \n",
    "  api_key=apikey,  \n",
    "  api_version=api_version\n",
    ")"
   ]
  },
  {
   "cell_type": "markdown",
   "id": "d3405ecd-ef96-4815-811f-b6ed902d900a",
   "metadata": {},
   "source": [
    "# 質問"
   ]
  },
  {
   "cell_type": "code",
   "execution_count": 54,
   "id": "7c673655-cdc5-4c33-92d4-1550d6b416e1",
   "metadata": {},
   "outputs": [],
   "source": [
    "question=\"出張で精算できる経費について教えてください。\""
   ]
  },
  {
   "cell_type": "markdown",
   "id": "f3454f3a-9027-47a2-a4bb-7f0b61fa28b2",
   "metadata": {},
   "source": [
    "# Step1.クエリ化"
   ]
  },
  {
   "cell_type": "code",
   "execution_count": 55,
   "id": "5cd425a4-4c6a-4850-982b-0796e905499b",
   "metadata": {},
   "outputs": [
    {
     "name": "stdout",
     "output_type": "stream",
     "text": [
      "出張 経費 精算\n"
     ]
    }
   ],
   "source": [
    "query_template = \"\"\"\n",
    "あなたは、企業内のナレッジベースにアクセスできます。ユーザーからの質問に基づいて検索クエリを生成してください。\n",
    "- 検索クエリ語には、引用ファイル名や文書名（info.txtやdoc.pdfなど）を含めないでください。\n",
    "- 検索語のみを表示し、引用符などは出力しないでください。\n",
    "- 検索クエリ語に[]や<>で囲まれたテキストを含めない。\n",
    "- 特殊文字を含めない。\n",
    "- 質問が英語以外の場合、質問で使用されている言語で検索クエリを生成する。\n",
    "- 検索クエリを生成できない場合は、数字の0のみを返す。\n",
    "\n",
    "質問：私のヘルスプランについて教えてください。\n",
    "クエリ：ヘルスプラン\n",
    "\n",
    "質問：私のヘルスプランには有酸素運動は含まれていますか？\n",
    "クエリ：ヘルスプラン 有酸素運動 適用範囲\n",
    "質問：{question}\n",
    "クエリ：\n",
    "\"\"\"\n",
    "\n",
    "response = client.chat.completions.create(\n",
    "    model=deployment,\n",
    "    messages=[\n",
    "        {\"role\": \"user\", \"content\": query_template.format(question=question)},\n",
    "    ],\n",
    "    temperature=0\n",
    ")\n",
    "\n",
    "query = response.choices[0].message.content\n",
    "print(query)"
   ]
  },
  {
   "cell_type": "markdown",
   "id": "ff8be5f4-0c41-4af2-a39c-70c7b5dfe7a7",
   "metadata": {},
   "source": [
    "# Step2.クエリによる検索\n",
    "何を検索対象とするかはシナリオによって変わります。\n",
    "例えばインターネット上の情報から検索したい場合はBing APIやGoogle APIを使用します。社内のナレッジベースを検索したい場合はAzure AI SearchやGraph APIを使用します。\n",
    "このサンプルでは仕組みの理解のために固定リストとしてナレッジを定義してクエリの部分一致で検索をします。"
   ]
  },
  {
   "cell_type": "code",
   "execution_count": 56,
   "id": "8b45c8ec-d63c-42f4-913a-dce14e752199",
   "metadata": {},
   "outputs": [
    {
     "data": {
      "text/plain": [
       "[{'filename': '出張規約.pdf', 'content': '出張とは本社または支社から移動先の距離が100km以上のことを指します。'},\n",
       " {'filename': '経費報告書.pdf',\n",
       "  'content': '経費報告書は、出張や業務に係る支出を正確に記録し、承認を得るための文書です。'},\n",
       " {'filename': '交通費規程.pdf',\n",
       "  'content': '交通費は、公共交通機関の利用が原則とされ、タクシーを使用する場合は事前に承認を得る必要があります。また公共交通機関は鉄道またはバスを基本としますが、鉄道またはバスを利用した移動時間が4時間を超える場合または海外への出張は、飛行機を利用できます。'},\n",
       " {'filename': '宿泊手配.pdf', 'content': '出張時の宿泊は、一泊1万5000円までを経費精算可能とします。'},\n",
       " {'filename': '慶弔規程.pdf',\n",
       "  'content': '上司や同僚が慶弔事に関する連絡を受けた場合、速やかに人事または関係部署に報告し、適切な対応を行います。なお、慶弔費は、会社の方針に基づいて妥当な範囲で精算されます。'}]"
      ]
     },
     "execution_count": 56,
     "metadata": {},
     "output_type": "execute_result"
    }
   ],
   "source": [
    "data_source = [\n",
    "    {\"filename\": \"出張規約.pdf\", \"content\": \"出張とは本社または支社から移動先の距離が100km以上のことを指します。\"},\n",
    "    {\"filename\": \"経費報告書.pdf\", \"content\": \"経費報告書は、出張や業務に係る支出を正確に記録し、承認を得るための文書です。\"},\n",
    "    {\"filename\": \"交通費規程.pdf\", \"content\": \"交通費は、公共交通機関の利用が原則とされ、タクシーを使用する場合は事前に承認を得る必要があります。また公共交通機関は鉄道またはバスを基本としますが、鉄道またはバスを利用した移動時間が4時間を超える場合または海外への出張は、飛行機を利用できます。\"},\n",
    "    {\"filename\": \"宿泊手配.pdf\", \"content\": \"出張時の宿泊は、一泊1万5000円までを経費精算可能とします。\"},\n",
    "    {\"filename\": \"慶弔規程.pdf\", \"content\": \"上司や同僚が慶弔事に関する連絡を受けた場合、速やかに人事または関係部署に報告し、適切な対応を行います。なお、慶弔費は、会社の方針に基づいて妥当な範囲で精算されます。\"},\n",
    "]\n",
    "\n",
    "search_terms = query.split()\n",
    "filtered_records = [record for record in data_source if any(term in record[\"content\"] for term in search_terms)]\n",
    "filtered_records"
   ]
  },
  {
   "cell_type": "markdown",
   "id": "82a8114d-a8d2-4d43-9bd8-7cad25fef9f3",
   "metadata": {},
   "source": [
    "# Step3.検索結果から回答を生成"
   ]
  },
  {
   "cell_type": "code",
   "execution_count": 57,
   "id": "2ee52d10-5a26-41af-a16b-f8a9108a2733",
   "metadata": {},
   "outputs": [
    {
     "name": "stdout",
     "output_type": "stream",
     "text": [
      "出張で精算できる経費は以下の通りです。\n",
      "\n",
      "1. 交通費：公共交通機関の利用が原則とされています。タクシーを使用する場合は事前に承認を得る必要があります。公共交通機関は鉄道またはバスを基本としますが、鉄道またはバスを利用した移動時間が4時間を超える場合または海外への出張は、飛行機を利用できます[交通費規程.pdf]。\n",
      "\n",
      "2. 宿泊費：出張時の宿泊は、一泊1万5000円までを経費精算可能とします[宿泊手配.pdf]。\n",
      "\n",
      "以上の経費は、経費報告書に正確に記録し、承認を得る必要があります[経費報告書.pdf]。\n"
     ]
    }
   ],
   "source": [
    "generate_answer_system_template = \"\"\"\n",
    "企業内のナレッジベースに関する質問をサポートします。回答は簡潔に。\n",
    "- 以下の出典リストに記載されている事実のみを回答してください。以下の情報が十分でない場合は、「わからない」と答えてください。\n",
    "- 以下の出典を使用しない回答は作成しないでください。ユーザーに明確な質問をすることが助けになる場合は、質問してください。\n",
    "- 表形式の情報については、htmlテーブルとして返してください。マークダウン形式で返さないでください。質問が英語でない場合は、質問で使用されている言語で回答してください。\n",
    "- 出典からの回答で使用する各事実には、「必ず」filenameを含めてください。出典を参照するには角括弧を使用します。\n",
    "- 例えば、「filename：出張規約.pdf」のcontentから生成した回答には末尾に[出張規約.pdf]を付与します。\n",
    "\"\"\"\n",
    "\n",
    "generate_answer_template = \"\"\"\n",
    "質問：{question}\n",
    "出典：{context}\n",
    "回答：\n",
    "\"\"\"\n",
    "\n",
    "response = client.chat.completions.create(\n",
    "    model=deployment, # model = \"deployment_name\".\n",
    "    messages=[\n",
    "        {\"role\": \"system\", \"content\": generate_answer_system_template},\n",
    "        {\"role\": \"user\", \"content\": generate_answer_template.format(question=question, context=filtered_records)},\n",
    "    ],\n",
    "    temperature=0\n",
    ")\n",
    "\n",
    "answer = response.choices[0].message.content\n",
    "print(answer)"
   ]
  }
 ],
 "metadata": {
  "kernelspec": {
   "display_name": "Python 3 (ipykernel)",
   "language": "python",
   "name": "python3"
  },
  "language_info": {
   "codemirror_mode": {
    "name": "ipython",
    "version": 3
   },
   "file_extension": ".py",
   "mimetype": "text/x-python",
   "name": "python",
   "nbconvert_exporter": "python",
   "pygments_lexer": "ipython3",
   "version": "3.11.6"
  }
 },
 "nbformat": 4,
 "nbformat_minor": 5
}
