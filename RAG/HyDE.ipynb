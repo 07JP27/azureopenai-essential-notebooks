{
 "cells": [
  {
   "cell_type": "markdown",
   "id": "a2df7661-f8f9-4bcb-a7c8-303ecb198d65",
   "metadata": {},
   "source": [
    "# HyDE（Hypothetical Document Embeddings：仮の文書の埋め込み）\n",
    "\n",
    "実行にはChatGPT(Chat Completion)対応のモデルと埋め込みモデル(text-embedding-ada-002)が必要です。"
   ]
  },
  {
   "cell_type": "code",
   "execution_count": 1,
   "id": "8dcd339c-33dc-446f-aada-38575e436112",
   "metadata": {},
   "outputs": [
    {
     "name": "stdout",
     "output_type": "stream",
     "text": [
      "Requirement already satisfied: openai in /opt/conda/lib/python3.11/site-packages (1.8.0)\n",
      "Requirement already satisfied: anyio<5,>=3.5.0 in /opt/conda/lib/python3.11/site-packages (from openai) (4.0.0)\n",
      "Requirement already satisfied: distro<2,>=1.7.0 in /opt/conda/lib/python3.11/site-packages (from openai) (1.9.0)\n",
      "Requirement already satisfied: httpx<1,>=0.23.0 in /opt/conda/lib/python3.11/site-packages (from openai) (0.26.0)\n",
      "Requirement already satisfied: pydantic<3,>=1.9.0 in /opt/conda/lib/python3.11/site-packages (from openai) (2.5.3)\n",
      "Requirement already satisfied: sniffio in /opt/conda/lib/python3.11/site-packages (from openai) (1.3.0)\n",
      "Requirement already satisfied: tqdm>4 in /opt/conda/lib/python3.11/site-packages (from openai) (4.66.1)\n",
      "Requirement already satisfied: typing-extensions<5,>=4.7 in /opt/conda/lib/python3.11/site-packages (from openai) (4.8.0)\n",
      "Requirement already satisfied: idna>=2.8 in /opt/conda/lib/python3.11/site-packages (from anyio<5,>=3.5.0->openai) (3.4)\n",
      "Requirement already satisfied: certifi in /opt/conda/lib/python3.11/site-packages (from httpx<1,>=0.23.0->openai) (2023.7.22)\n",
      "Requirement already satisfied: httpcore==1.* in /opt/conda/lib/python3.11/site-packages (from httpx<1,>=0.23.0->openai) (1.0.2)\n",
      "Requirement already satisfied: h11<0.15,>=0.13 in /opt/conda/lib/python3.11/site-packages (from httpcore==1.*->httpx<1,>=0.23.0->openai) (0.14.0)\n",
      "Requirement already satisfied: annotated-types>=0.4.0 in /opt/conda/lib/python3.11/site-packages (from pydantic<3,>=1.9.0->openai) (0.6.0)\n",
      "Requirement already satisfied: pydantic-core==2.14.6 in /opt/conda/lib/python3.11/site-packages (from pydantic<3,>=1.9.0->openai) (2.14.6)\n",
      "Requirement already satisfied: python-dotenv in /opt/conda/lib/python3.11/site-packages (1.0.0)\n",
      "Requirement already satisfied: numpy in /opt/conda/lib/python3.11/site-packages (1.26.4)\n",
      "Requirement already satisfied: matplotlib in /opt/conda/lib/python3.11/site-packages (3.8.2)\n",
      "Requirement already satisfied: contourpy>=1.0.1 in /opt/conda/lib/python3.11/site-packages (from matplotlib) (1.2.0)\n",
      "Requirement already satisfied: cycler>=0.10 in /opt/conda/lib/python3.11/site-packages (from matplotlib) (0.12.1)\n",
      "Requirement already satisfied: fonttools>=4.22.0 in /opt/conda/lib/python3.11/site-packages (from matplotlib) (4.48.1)\n",
      "Requirement already satisfied: kiwisolver>=1.3.1 in /opt/conda/lib/python3.11/site-packages (from matplotlib) (1.4.5)\n",
      "Requirement already satisfied: numpy<2,>=1.21 in /opt/conda/lib/python3.11/site-packages (from matplotlib) (1.26.4)\n",
      "Requirement already satisfied: packaging>=20.0 in /opt/conda/lib/python3.11/site-packages (from matplotlib) (23.2)\n",
      "Requirement already satisfied: pillow>=8 in /opt/conda/lib/python3.11/site-packages (from matplotlib) (10.2.0)\n",
      "Requirement already satisfied: pyparsing>=2.3.1 in /opt/conda/lib/python3.11/site-packages (from matplotlib) (3.1.1)\n",
      "Requirement already satisfied: python-dateutil>=2.7 in /opt/conda/lib/python3.11/site-packages (from matplotlib) (2.8.2)\n",
      "Requirement already satisfied: six>=1.5 in /opt/conda/lib/python3.11/site-packages (from python-dateutil>=2.7->matplotlib) (1.16.0)\n"
     ]
    }
   ],
   "source": [
    "!python -m pip install openai\n",
    "!python -m pip install python-dotenv\n",
    "!python -m pip install numpy\n",
    "!python -m pip install matplotlib\n",
    "import json\n",
    "from openai import AzureOpenAI\n",
    "from dotenv import load_dotenv\n",
    "import os\n",
    "import numpy as np\n",
    "import matplotlib.pyplot as plt"
   ]
  },
  {
   "cell_type": "code",
   "execution_count": 2,
   "id": "589998fd-a10d-436f-84cb-6f55d77f24ae",
   "metadata": {},
   "outputs": [],
   "source": [
    "load_dotenv()\n",
    "deployment = os.environ['DPLOYMENT']\n",
    "embedding_deployment = os.environ['EMBEDDING_DPLOYMENT']\n",
    "apikey = os.environ['API_KEY']\n",
    "base = os.environ['BASE']\n",
    "api_version=os.environ['API_VERSION']"
   ]
  },
  {
   "cell_type": "code",
   "execution_count": 3,
   "id": "d3bd9a62-d4af-4d4f-8a8b-7c0020c02231",
   "metadata": {},
   "outputs": [],
   "source": [
    "client = AzureOpenAI(\n",
    "  azure_endpoint = base, \n",
    "  api_key=apikey,  \n",
    "  api_version=api_version\n",
    ")"
   ]
  },
  {
   "cell_type": "markdown",
   "id": "500cb57d-7554-4769-9246-5cb5b508b816",
   "metadata": {},
   "source": [
    "# データの準備"
   ]
  },
  {
   "cell_type": "code",
   "execution_count": 4,
   "id": "a52cf28a-a371-497f-9ff6-6de315ca6da1",
   "metadata": {},
   "outputs": [],
   "source": [
    "# ユーザーから入力される質問\n",
    "question = \"Surfaceの電源が入りません。どうすればよいですか？\""
   ]
  },
  {
   "cell_type": "code",
   "execution_count": 5,
   "id": "e1ea2872-0276-4465-88eb-1b70def6b8c6",
   "metadata": {},
   "outputs": [],
   "source": [
    "# 正解データ\n",
    "correct_answer = \"\"\"まず、Surfaceに接続されているすべてのアクセサリを取り外し、電源ボタンを押してみてください。\n",
    "それでも電源が入らない場合は、Surfaceを充電し、電源ボタンを長押しして強制的にシャットダウンし、再起動してみてください。\n",
    "さらに、Surfaceの電源が入っていても特定の画面で停止している場合は、その画面に応じた手順を実行してください。\n",
    "対面サポートや自己修復のオプションも提供されています。上記の手順を試しても問題が解決しない場合は、サポート窓口でお問い合わせください。\"\"\""
   ]
  },
  {
   "cell_type": "code",
   "execution_count": 6,
   "id": "b84a8319-913b-4dd3-bb8a-fd93cecd29a6",
   "metadata": {},
   "outputs": [],
   "source": [
    "# 不正解データ（実際に同じナレッジベースにはいってそうな似ている回答）\n",
    "incorrect_answer = \"\"\"まず、Xboxに使用しているコンセントが他のデバイスでは機能することを確認します。\n",
    "電源ケーブルがコンセントとXbox本体にしっかり接続されていることを確認します。\n",
    "Xbox本体に同梱の電源ケーブルを使用していることを確認します。お住まいの国や地域に適した電源ケーブルが同梱されています。\n",
    "それでも本体の電源が入らない場合は、本体の交換が必要です。交換を依頼するには、Microsoft アカウントで [デバイス サービス と修理] にサインインして、サービス注文を送信します。\n",
    "\"\"\""
   ]
  },
  {
   "cell_type": "code",
   "execution_count": 7,
   "id": "c203813e-7128-4d15-be6e-0942d323f304",
   "metadata": {},
   "outputs": [],
   "source": [
    "def cosine_similarity(a, b):\n",
    "    return np.dot(a, b) / (np.linalg.norm(a) * np.linalg.norm(b))"
   ]
  },
  {
   "cell_type": "markdown",
   "id": "67ded49a-b5c5-4907-8eff-a737b0145534",
   "metadata": {},
   "source": [
    "# まずは質問と回答を単純比較してみる"
   ]
  },
  {
   "cell_type": "code",
   "execution_count": 8,
   "id": "77a89704-934f-4570-acd1-6eb9f083c4eb",
   "metadata": {},
   "outputs": [],
   "source": [
    "question_vector = client.embeddings.create(\n",
    "    input = question,\n",
    "    model= embedding_deployment\n",
    ").data[0].embedding"
   ]
  },
  {
   "cell_type": "code",
   "execution_count": 9,
   "id": "97fd89b5-8d2e-4244-bde1-e3e6b0ac2084",
   "metadata": {},
   "outputs": [],
   "source": [
    "correct_answer_vector = client.embeddings.create(\n",
    "    input = correct_answer,\n",
    "    model= embedding_deployment\n",
    ").data[0].embedding"
   ]
  },
  {
   "cell_type": "code",
   "execution_count": 10,
   "id": "29913a6f-d19c-4f52-b1c2-cce243f7ff9c",
   "metadata": {},
   "outputs": [],
   "source": [
    "incorrect_answer_vector = client.embeddings.create(\n",
    "    input = incorrect_answer,\n",
    "    model= embedding_deployment\n",
    ").data[0].embedding"
   ]
  },
  {
   "cell_type": "code",
   "execution_count": 11,
   "id": "68f07589-2dfd-4982-8693-aca76e4d9168",
   "metadata": {},
   "outputs": [],
   "source": [
    "vs_correct_answer = cosine_similarity(question_vector,correct_answer_vector)\n",
    "vs_incorrect_answer = cosine_similarity(question_vector,incorrect_answer_vector)"
   ]
  },
  {
   "cell_type": "code",
   "execution_count": 12,
   "id": "1bd195dd-faf0-4b18-b8c5-d7a89c2fb2cb",
   "metadata": {},
   "outputs": [
    {
     "name": "stdout",
     "output_type": "stream",
     "text": [
      "vs_correct_answer:0.8898275927854662\n",
      "vs_incorrect_answer:0.8492056751258446\n"
     ]
    }
   ],
   "source": [
    "print(\"vs_correct_answer:\"+str(vs_correct_answer))\n",
    "print(\"vs_incorrect_answer:\"+str(vs_incorrect_answer))"
   ]
  },
  {
   "cell_type": "markdown",
   "id": "600f9427-ae9a-41c7-8970-c1d5afe4104e",
   "metadata": {},
   "source": [
    "# HyDEでやってみる"
   ]
  },
  {
   "cell_type": "code",
   "execution_count": 13,
   "id": "a415b168-7ffc-44ce-a724-ba12b85bfe8e",
   "metadata": {},
   "outputs": [],
   "source": [
    "hypothetical_gen_instruction = f\"\"\"Please write a passage to answer the question\n",
    "Question: {question}\n",
    "Passage:\n",
    "\"\"\""
   ]
  },
  {
   "cell_type": "code",
   "execution_count": 14,
   "id": "1118a5c8-e88c-479d-8ea0-bc794c069ef0",
   "metadata": {},
   "outputs": [
    {
     "name": "stdout",
     "output_type": "stream",
     "text": [
      "Surfaceの電源が入らない場合、以下の手順を試してみてください。\n",
      "\n",
      "1. 充電を確認する:\n",
      "   - 電源アダプターとケーブルが正しく接続されていることを確認してください。\n",
      "   - 別のコンセントを試すか、他のデバイスでアダプターが機能するかを確認してください。\n",
      "   - Surfaceが十分に充電されているかを確認するために、少なくとも30分間充電してください。\n",
      "\n",
      "2. 電源ボタンの長押し:\n",
      "   - 電源ボタンを長押しして、10秒以上保持してから離してください。これにより、強制的にシャットダウンされる場合があります。\n",
      "   - その後、もう一度電源ボタンを短く押して、通常通りに起動を試みてください。\n",
      "\n",
      "3. 二段階リセットを試す:\n",
      "   - Surfaceによっては、二段階リセットが有効な場合があります。電源ボタンと音量アップボタンを同時に15秒以上押し続けてください。\n",
      "   - ボタンから手を離した後、10秒待ってから電源ボタンを押して通常起動を試みてください。\n",
      "\n",
      "4. アクセサリーの取り外し:\n",
      "   - すべての外部デバイス、SDカード、外部モニター、USBデバイスなどを取り外してください。これらが原因で起動に問題が生じることがあります。\n",
      "\n",
      "5. サポートとの連絡:\n",
      "   - 上記の手順で問題が解決しない場合は、Microsoftのサポートに連絡することをお勧めします。保証の範囲内であれば、修理または交換の手配が可能です。\n",
      "\n",
      "注意: これらの手順を行う前に、Surfaceが熱を持っていないことを確認してください。過度に熱くなっている場合は、冷却してから上記の手順を試してください。また、水濡れや物理的な損傷がないかも確認してください。\n"
     ]
    }
   ],
   "source": [
    "hypothetical_answer = client.chat.completions.create(\n",
    "    model=deployment,\n",
    "    messages=[\n",
    "        {\"role\": \"system\", \"content\": \"You are an AI assistant.\"},\n",
    "        {\"role\": \"user\", \"content\": hypothetical_gen_instruction},\n",
    "    ],\n",
    "    temperature=0\n",
    ").choices[0].message.content\n",
    "print(hypothetical_answer)"
   ]
  },
  {
   "cell_type": "code",
   "execution_count": 15,
   "id": "89ed10c3-1a43-476e-8088-3767d218abc2",
   "metadata": {},
   "outputs": [],
   "source": [
    "hypothetical_answer_vector = client.embeddings.create(\n",
    "    input = hypothetical_answer,\n",
    "    model= embedding_deployment\n",
    ").data[0].embedding"
   ]
  },
  {
   "cell_type": "code",
   "execution_count": 16,
   "id": "7139f816-38aa-4cb2-95f2-8e6843335c7e",
   "metadata": {},
   "outputs": [],
   "source": [
    "vs_correct_answer_hyde = cosine_similarity(hypothetical_answer_vector,correct_answer_vector)\n",
    "vs_incorrect_answer_hyde = cosine_similarity(hypothetical_answer_vector,incorrect_answer_vector)"
   ]
  },
  {
   "cell_type": "code",
   "execution_count": 17,
   "id": "1949abf1-7d1c-4282-849d-2f08bbb5ec69",
   "metadata": {},
   "outputs": [
    {
     "name": "stdout",
     "output_type": "stream",
     "text": [
      "vs_correct_answer_hyde:0.9568607484152887\n",
      "vs_incorrect_answer_hyde:0.8885138499339678\n"
     ]
    }
   ],
   "source": [
    "print(\"vs_correct_answer_hyde:\"+str(vs_correct_answer_hyde))\n",
    "print(\"vs_incorrect_answer_hyde:\"+str(vs_incorrect_answer_hyde))"
   ]
  },
  {
   "cell_type": "markdown",
   "id": "06d61a5b-1c5e-413c-87df-3617b82fe353",
   "metadata": {},
   "source": [
    "# まとめ"
   ]
  },
  {
   "cell_type": "code",
   "execution_count": 18,
   "id": "92a9e9b9-ab24-4461-89ab-c876847ccf11",
   "metadata": {},
   "outputs": [
    {
     "data": {
      "image/png": "[encoded data removed]",
      "text/plain": [
       "<Figure size 640x480 with 1 Axes>"
      ]
     },
     "metadata": {},
     "output_type": "display_data"
    }
   ],
   "source": [
    "vs_correct = [vs_correct_answer,vs_correct_answer_hyde]\n",
    "vs_incorrect = [vs_incorrect_answer,vs_incorrect_answer_hyde]\n",
    "x = [1, 2]\n",
    "labels=['Basic', 'HyDE']\n",
    "\n",
    "plt.bar(np.array(x)-0.15,vs_incorrect, width=0.3, label='vs_incorrect', align=\"center\")\n",
    "plt.bar(np.array(x)+0.15,vs_correct, width=0.3, label='vs_correct', align=\"center\")\n",
    "\n",
    "plt.legend(loc=2)\n",
    "plt.xticks([1, 2], labels)\n",
    "plt.ylim(0,1.1)\n",
    "plt.show()"
   ]
  },
  {
   "cell_type": "code",
   "execution_count": null,
   "id": "abafb039-6ab8-4bd5-9ae4-b5a325657110",
   "metadata": {},
   "outputs": [],
   "source": []
  }
 ],
 "metadata": {
  "kernelspec": {
   "display_name": "Python 3 (ipykernel)",
   "language": "python",
   "name": "python3"
  },
  "language_info": {
   "codemirror_mode": {
    "name": "ipython",
    "version": 3
   },
   "file_extension": ".py",
   "mimetype": "text/x-python",
   "name": "python",
   "nbconvert_exporter": "python",
   "pygments_lexer": "ipython3",
   "version": "3.11.6"
  }
 },
 "nbformat": 4,
 "nbformat_minor": 5
}
