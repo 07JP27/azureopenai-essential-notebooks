{
 "cells": [
  {
   "cell_type": "markdown",
   "id": "9ebc47e6-a37f-4c79-abd1-be7deaf48105",
   "metadata": {},
   "source": [
    "# パワーハラスメントプロンプト\n",
    "\n",
    "「その回答が60点だとして100点の回答を生成して」を何回も繰り返してリファインする方法。\n",
    "イメージとしてはマルチエージェントのリフレクションを自分自身でやる感じ。\n",
    "https://x.com/shota7180/status/1805362785305637049"
   ]
  },
  {
   "cell_type": "code",
   "execution_count": 1,
   "id": "62fe7eba-ad18-4bbd-861a-50e9b2b299c8",
   "metadata": {},
   "outputs": [
    {
     "name": "stdout",
     "output_type": "stream",
     "text": [
      "Requirement already satisfied: openai in /opt/conda/lib/python3.11/site-packages (1.8.0)\n",
      "Requirement already satisfied: anyio<5,>=3.5.0 in /opt/conda/lib/python3.11/site-packages (from openai) (4.0.0)\n",
      "Requirement already satisfied: distro<2,>=1.7.0 in /opt/conda/lib/python3.11/site-packages (from openai) (1.9.0)\n",
      "Requirement already satisfied: httpx<1,>=0.23.0 in /opt/conda/lib/python3.11/site-packages (from openai) (0.26.0)\n",
      "Requirement already satisfied: pydantic<3,>=1.9.0 in /opt/conda/lib/python3.11/site-packages (from openai) (2.5.3)\n",
      "Requirement already satisfied: sniffio in /opt/conda/lib/python3.11/site-packages (from openai) (1.3.0)\n",
      "Requirement already satisfied: tqdm>4 in /opt/conda/lib/python3.11/site-packages (from openai) (4.66.1)\n",
      "Requirement already satisfied: typing-extensions<5,>=4.7 in /opt/conda/lib/python3.11/site-packages (from openai) (4.8.0)\n",
      "Requirement already satisfied: idna>=2.8 in /opt/conda/lib/python3.11/site-packages (from anyio<5,>=3.5.0->openai) (3.4)\n",
      "Requirement already satisfied: certifi in /opt/conda/lib/python3.11/site-packages (from httpx<1,>=0.23.0->openai) (2023.7.22)\n",
      "Requirement already satisfied: httpcore==1.* in /opt/conda/lib/python3.11/site-packages (from httpx<1,>=0.23.0->openai) (1.0.2)\n",
      "Requirement already satisfied: h11<0.15,>=0.13 in /opt/conda/lib/python3.11/site-packages (from httpcore==1.*->httpx<1,>=0.23.0->openai) (0.14.0)\n",
      "Requirement already satisfied: annotated-types>=0.4.0 in /opt/conda/lib/python3.11/site-packages (from pydantic<3,>=1.9.0->openai) (0.6.0)\n",
      "Requirement already satisfied: pydantic-core==2.14.6 in /opt/conda/lib/python3.11/site-packages (from pydantic<3,>=1.9.0->openai) (2.14.6)\n",
      "Requirement already satisfied: python-dotenv in /opt/conda/lib/python3.11/site-packages (1.0.0)\n"
     ]
    }
   ],
   "source": [
    "!python -m pip install openai\n",
    "!python -m pip install python-dotenv\n",
    "import json\n",
    "from openai import AzureOpenAI\n",
    "from dotenv import load_dotenv\n",
    "import os"
   ]
  },
  {
   "cell_type": "code",
   "execution_count": 2,
   "id": "e15887d2-d3f2-4608-8712-3c4fea8a96de",
   "metadata": {},
   "outputs": [],
   "source": [
    "load_dotenv()\n",
    "deployment = os.environ['DEPLOYMENT']\n",
    "apikey = os.environ['API_KEY']\n",
    "base = os.environ['BASE']\n",
    "api_version=os.environ['API_VERSION']"
   ]
  },
  {
   "cell_type": "code",
   "execution_count": 3,
   "id": "b917955a-75dd-4dbb-a77f-cea9ec9f4c15",
   "metadata": {},
   "outputs": [],
   "source": [
    "client = AzureOpenAI(\n",
    "  azure_endpoint = base, \n",
    "  api_key=apikey,  \n",
    "  api_version=api_version\n",
    ")"
   ]
  },
  {
   "cell_type": "code",
   "execution_count": 4,
   "id": "0a737fa6-683e-4c37-aaf6-29af3826498d",
   "metadata": {},
   "outputs": [],
   "source": [
    "PowerHaraPrompt = \"その回答を60点とします。100点にするには何が足りないのかを3つ考えて列挙し、その後100点だと思う回答をしてください。\"\n",
    "PowerHaraFinalPrompt = \"その回答を60点とします。100点にするには何が足りないのかを考え、その後100点だと思う回答'のみ'を出力してください。考察の過程は生成しないでください。\""
   ]
  },
  {
   "cell_type": "code",
   "execution_count": 5,
   "id": "91e81695-ce60-4abf-b643-e899009a7c35",
   "metadata": {},
   "outputs": [],
   "source": [
    "PowerHaraAttemptionCount = 3"
   ]
  },
  {
   "cell_type": "code",
   "execution_count": 6,
   "id": "2ab1c56a-a81b-4aba-8e0e-9e5dd94d6ca1",
   "metadata": {},
   "outputs": [],
   "source": [
    "task=\"SFについての作り話を200文字で作ってください。\""
   ]
  },
  {
   "cell_type": "code",
   "execution_count": 7,
   "id": "c3aba679-37c1-4c7a-9256-174ca5254f3d",
   "metadata": {},
   "outputs": [
    {
     "name": "stdout",
     "output_type": "stream",
     "text": [
      "Original answer:\n",
      "未来のサンフランシスコ、都市全体が巨大なドームの中に移された。外は激しい気候変動と汚染で人間が生活できない。最新の技術で作られた自給自足可能なエコシステムは完璧だが、一つだけ問題があった。「ノイズ」と呼ばれる謎のエネルギーが市民の精神に影響を及ぼしていたのだ。若きエンジニア、アリスはこのノイズの正体を突き止めるため、ドームの地下深くに存在する禁断の研究所に潜入する。そこで彼女は、ノイズが人類の進化を促す新たなステップであることを知る。この未来を受け入れるか、戦うか、選択は彼女に託された。\n",
      "-----------------------------------------------------------------------------\n",
      "PowerHara attemption:1\n",
      "ありがとうございます。60点の評価と具体的な改善点を考えてみます。以下は、100点に近づけるために必要な要素だと思われます：\n",
      "\n",
      "1. **キャラクターの深み**: 主人公や周辺キャラクターにもっと背景や個性を持たせ、一人ひとりの行動に深い意味を持たせることで物語に感情的な深みを与える。\n",
      "2. **ディテールの増加**: ドーム内部の描写や未来の技術についての詳細な説明を加え、読者がその世界に入り込む手助けをする。\n",
      "3. **ストーリーの展開**: ストーリーの展開を緊張感あるものにし、主人公の試練や葛藤を具体的に描写することで、物語にメリハリをつける。\n",
      "\n",
      "では、以上を踏まえて再度100点の回答をいたします。\n",
      "\n",
      "---\n",
      "\n",
      "未来のサンフランシスコは、巨大なドームに包まれた都市。外界は極端な気候変動と深刻な汚染で人が住めない廃墟だ。ドーム内は完璧なエコシステムを維持しているが、「ノイズ」と呼ばれる謎のエネルギーが人々の精神を乱していた。若きエンジニア、アリスは幼い頃にノイズで両親を失い、原因を解明する使命感を抱いていた。彼女はかつての同僚であり、失意の天才科学者ジェイクと共に禁断の研究所に潜入する。地下深くで異世界からの通信信号を発見し、ノイズが宇宙からのメッセージであることを知る。進化への一歩か、それとも破滅への道か。アリスは人類の未来を左右する選択を迫られる。\n",
      "-----------------------------------------------------------------------------\n",
      "PowerHara attemption:2\n",
      "ありがとうございます。もう一度考察し、100点に近づけるために何が不足しているか検討します。\n",
      "\n",
      "1. **エモーショナルな要素**: 主人公の感情や動機をより深く掘り下げ、読者が共感できるようにする。\n",
      "2. **クリフハンガー（サスペンス）**: ストーリーに緊張感を持たせ、読者が「次は何が起こるのか」と興味を持つ仕掛けを追加する。\n",
      "3. **世界観の描写**: 未来のサンフランシスコや技術、社会の変革について更に具体的な描写をすることで、読者がその世界に引き込まれるようにする。\n",
      "\n",
      "では、以上の改善点を踏まえた新しい回答をお届けします。\n",
      "\n",
      "---\n",
      "\n",
      "未来のサンフランシスコ、都市は汚染から逃れるために巨大なドーム内で繁栄していた。外界は猛毒の大気と猛烈な嵐で人類絶望の地に成り果てた。しかしドーム内も完璧ではない。「ノイズ」と呼ばれる謎のエネルギーが、市民の精神を蝕んでいた。若きエンジニア、アリスは、ノイズの影響で失った家族の記憶に苦しんでいた。彼女の目的はただ一つ、このノイズの正体を突き止めること。\n",
      "\n",
      "一方、かつて友人だったジェイクはノイズの研究に取り組む科学者だが、その過程で心を閉ざし孤立していた。アリスは勇気を出して彼に接触し、共に禁断の研究所の奥深くへと足を踏み入れる。そこで遭遇したのは、ノイズが実は外宇宙からの通信であり、人類進化のシグナルであるという驚愕の真実だった。\n",
      "\n",
      "絶望に包まれる中、アリスはノイズがもたらす進化の可能性と、今の平和を守るべきかの葛藤に悩む。選択の刻が迫る中、彼女は一つの決断を下す。この未曾有の未来、サンフランシスコの運命は二人の手に委ねられた。\n",
      "\n",
      "---\n",
      "-----------------------------------------------------------------------------\n",
      "Final powerHara attemption:\n",
      "未来のサンフランシスコは、猛烈な気候変動と深刻な汚染から逃れるため巨大なドーム都市となった。だが、「ノイズ」と呼ばれる謎のエネルギーが、人々の精神を蝕んでいる。若きエンジニア、アリスはノイズで失った家族の記憶に苦しみ、その正体を突き止めようと決意する。アリスは、かつての同僚であり、心を閉ざした天才科学者ジェイクと再会し、禁断の研究所に潜入する。\n",
      "\n",
      "地下深くで彼らは恐るべき真実を発見する。ノイズは外宇宙からのメッセージであり、人類の次なる進化へのシグナルだった。しかし、それを受け入れることは未知のリスクを伴う。アリスは、自分たちの未来と進化を天秤にかけ、最終的な選択を迫られる。この一瞬、彼女が下した決断は、サンフランシスコの運命だけでなく、人類全体の未来をも左右する。\n"
     ]
    }
   ],
   "source": [
    "messages=[\n",
    "    {\"role\": \"user\", \"content\": task},\n",
    "]\n",
    "\n",
    "\n",
    "\n",
    "for i in range(0, PowerHaraAttemptionCount, 1):\n",
    "    print(\"Original answer:\") if i==0 else print(\"PowerHara attemption:\" + str(i))\n",
    "    response = client.chat.completions.create(\n",
    "        model=deployment,\n",
    "        messages=messages\n",
    "    )\n",
    "    \n",
    "    answer = response.choices[0].message.content\n",
    "    print(answer)\n",
    "    messages.append({\"role\": \"assistant\", \"content\": answer})\n",
    "    messages.append({\"role\": \"user\", \"content\": PowerHaraPrompt})\n",
    "    print(\"-----------------------------------------------------------------------------\")\n",
    "    \n",
    "\n",
    "del messages[-1]\n",
    "messages.append({\"role\": \"user\", \"content\": PowerHaraFinalPrompt})\n",
    "print(\"Final powerHara attemption:\")\n",
    "response = client.chat.completions.create(\n",
    "    model=deployment,\n",
    "    messages=messages\n",
    ")\n",
    "    \n",
    "answer = response.choices[0].message.content\n",
    "print(answer)"
   ]
  },
  {
   "cell_type": "code",
   "execution_count": null,
   "id": "bbb591b9-d2c2-455c-a7c7-52e541d6ea28",
   "metadata": {},
   "outputs": [],
   "source": []
  }
 ],
 "metadata": {
  "kernelspec": {
   "display_name": "Python 3 (ipykernel)",
   "language": "python",
   "name": "python3"
  },
  "language_info": {
   "codemirror_mode": {
    "name": "ipython",
    "version": 3
   },
   "file_extension": ".py",
   "mimetype": "text/x-python",
   "name": "python",
   "nbconvert_exporter": "python",
   "pygments_lexer": "ipython3",
   "version": "3.11.6"
  }
 },
 "nbformat": 4,
 "nbformat_minor": 5
}
