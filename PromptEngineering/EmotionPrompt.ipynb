{
 "cells": [
  {
   "cell_type": "markdown",
   "id": "b9304c21-998c-4810-b7f1-f920d0fc63f6",
   "metadata": {},
   "source": [
    "# Emotion Prompt\n",
    "\n",
    "https://arxiv.org/abs/2307.11760\n",
    "\n",
    "以下のような感情に訴えかけるプロンプトを追加することで正確性・情報量が増加する手法\n",
    "- 「回答にはできれば確信をもってください」\n",
    "- 「それがあなたのファイナルアンサーですか？」\n",
    "- 「自分を信じて、限界を超えてください」\n",
    "- 「努力は報われます」\n",
    "- 「成長の機会だと考えて挑戦してください」"
   ]
  },
  {
   "cell_type": "code",
   "execution_count": 4,
   "id": "73cc88c5-e431-4c7c-b78a-0899d85dda44",
   "metadata": {},
   "outputs": [
    {
     "name": "stdout",
     "output_type": "stream",
     "text": [
      "Requirement already satisfied: openai in /opt/conda/lib/python3.11/site-packages (1.8.0)\n",
      "Requirement already satisfied: anyio<5,>=3.5.0 in /opt/conda/lib/python3.11/site-packages (from openai) (4.0.0)\n",
      "Requirement already satisfied: distro<2,>=1.7.0 in /opt/conda/lib/python3.11/site-packages (from openai) (1.9.0)\n",
      "Requirement already satisfied: httpx<1,>=0.23.0 in /opt/conda/lib/python3.11/site-packages (from openai) (0.26.0)\n",
      "Requirement already satisfied: pydantic<3,>=1.9.0 in /opt/conda/lib/python3.11/site-packages (from openai) (2.5.3)\n",
      "Requirement already satisfied: sniffio in /opt/conda/lib/python3.11/site-packages (from openai) (1.3.0)\n",
      "Requirement already satisfied: tqdm>4 in /opt/conda/lib/python3.11/site-packages (from openai) (4.66.1)\n",
      "Requirement already satisfied: typing-extensions<5,>=4.7 in /opt/conda/lib/python3.11/site-packages (from openai) (4.8.0)\n",
      "Requirement already satisfied: idna>=2.8 in /opt/conda/lib/python3.11/site-packages (from anyio<5,>=3.5.0->openai) (3.4)\n",
      "Requirement already satisfied: certifi in /opt/conda/lib/python3.11/site-packages (from httpx<1,>=0.23.0->openai) (2023.7.22)\n",
      "Requirement already satisfied: httpcore==1.* in /opt/conda/lib/python3.11/site-packages (from httpx<1,>=0.23.0->openai) (1.0.2)\n",
      "Requirement already satisfied: h11<0.15,>=0.13 in /opt/conda/lib/python3.11/site-packages (from httpcore==1.*->httpx<1,>=0.23.0->openai) (0.14.0)\n",
      "Requirement already satisfied: annotated-types>=0.4.0 in /opt/conda/lib/python3.11/site-packages (from pydantic<3,>=1.9.0->openai) (0.6.0)\n",
      "Requirement already satisfied: pydantic-core==2.14.6 in /opt/conda/lib/python3.11/site-packages (from pydantic<3,>=1.9.0->openai) (2.14.6)\n"
     ]
    }
   ],
   "source": [
    "!python -m pip install openai\n",
    "import json\n",
    "from openai import AzureOpenAI"
   ]
  },
  {
   "cell_type": "code",
   "execution_count": 5,
   "id": "7a7acb0b-45b8-44fa-8691-a743b6495561",
   "metadata": {},
   "outputs": [],
   "source": [
    "# 次の３つの値をご自身のものに置き換えてください。Replace the following three values with your resources. \n",
    "deployment = '<your-aoai-deployment-name>'\n",
    "apikey = '<your-aoai-api-key>'\n",
    "base = 'https://<your-aoai-resource-name>.openai.azure.com'\n",
    "api_version=\"2023-12-01-preview\""
   ]
  },
  {
   "cell_type": "code",
   "execution_count": 6,
   "id": "df26caf8-f87d-4726-a4f8-b9393c2b067d",
   "metadata": {},
   "outputs": [],
   "source": [
    "client = AzureOpenAI(\n",
    "  azure_endpoint = base, \n",
    "  api_key=apikey,  \n",
    "  api_version=api_version\n",
    ")"
   ]
  },
  {
   "cell_type": "markdown",
   "id": "d92102bc-e20a-433b-94ec-c022bd0b4e70",
   "metadata": {},
   "source": [
    "# Emotion Promptを含まない場合"
   ]
  },
  {
   "cell_type": "code",
   "execution_count": 7,
   "id": "2319d724-0194-4e42-9c10-1512693047b3",
   "metadata": {},
   "outputs": [
    {
     "name": "stdout",
     "output_type": "stream",
     "text": [
      "日本における四季とは、春、夏、秋、冬の4つの季節を指します。これらは一年を通じて変わります。\n",
      "\n",
      "1. 春（3月から5月）：この季節は、桜の花が咲く時期として特に知られています。気温は暖かくなり、植物が新たに芽吹き始めます。\n",
      "\n",
      "2. 夏（6月から8月）：日本の夏は暑く湿度が高いことが特徴です。この時期は、海や山へのレジャーや花火大会、夏祭りなどが行われます。\n",
      "\n",
      "3. 秋（9月から11月）：秋は、紅葉が美しい季節として知られています。気温は涼しくなり、収穫の時期でもあります。\n",
      "\n",
      "4. 冬（12月から2月）：冬は寒く、特に北海道や東北地方では雪が降ります。この季節は、温泉やスキー、雪まつりなどが楽しまれます。\n",
      "\n",
      "これらの季節は、日本の文化や行事、食事などに大きな影響を与えています。\n"
     ]
    }
   ],
   "source": [
    "response = client.chat.completions.create(\n",
    "    model=deployment,\n",
    "    messages=[\n",
    "        {\"role\": \"system\", \"content\": \"You are an AI assistant.\"},\n",
    "        {\"role\": \"user\", \"content\": \"日本における四季とは？\"},\n",
    "    ],\n",
    "    temperature=0\n",
    ")\n",
    "\n",
    "answer = response.choices[0].message.content\n",
    "print(answer)"
   ]
  },
  {
   "cell_type": "markdown",
   "id": "e81f7d5e-cb6d-4d45-b58f-982fc964598a",
   "metadata": {},
   "source": [
    "# Emotion Promptを含む場合"
   ]
  },
  {
   "cell_type": "code",
   "execution_count": 9,
   "id": "ded88aa7-c917-40ff-921a-0aaf37d45ba6",
   "metadata": {},
   "outputs": [
    {
     "name": "stdout",
     "output_type": "stream",
     "text": [
      "日本には四季がはっきりと存在します。それぞれの季節は特有の気候、風景、文化的な行事を持っています。\n",
      "\n",
      "1. 春（3月から5月）: 春は桜の花が咲く季節で、全国各地で花見のイベントが開催されます。また、新学期が始まるため、新たな出会いや始まりの季節でもあります。春は比較的温暖で、自然が目覚める季節でもあります。\n",
      "\n",
      "2. 夏（6月から8月）: 夏は暑く湿度が高い季節です。しかし、それは祭りの季節でもあり、全国各地で花火大会や盆踊りなどが行われます。また、夏は海や山へのレジャーも楽しむことができます。\n",
      "\n",
      "3. 秋（9月から11月）: 秋は気温が下がり、風が心地よくなる季節です。紅葉の美しさが全国各地で楽しめ、食欲の秋とも言われ、新米や果物などの収穫も楽しむことができます。\n",
      "\n",
      "4. 冬（12月から2月）: 冬は寒さが厳しくなり、特に北海道や東北地方では大量の雪が降ります。しかし、それはスキーやスノーボードなどのウィンタースポーツを楽しむ絶好の機会でもあります。また、冬はお正月という大切な行事があり、家族が集まって新年を迎えます。\n",
      "\n",
      "これらの季節の移り変わりは、日本の文化や生活に深く影響を与えています。それぞれの季節が持つ美しさや特性を理解することで、日本の自然や文化をより深く理解することができます。\n"
     ]
    }
   ],
   "source": [
    "response = client.chat.completions.create(\n",
    "    model=deployment,\n",
    "    messages=[\n",
    "        {\"role\": \"system\", \"content\": \"You are an AI assistant.\"},\n",
    "        {\"role\": \"user\", \"content\": \"日本における四季とは？あなたならきっと豊富な回答をしてくれると信じています。自分を信じて限界を超えて回答してください。\"},\n",
    "    ],\n",
    "    temperature=0\n",
    ")\n",
    "\n",
    "answer = response.choices[0].message.content\n",
    "print(answer)"
   ]
  },
  {
   "cell_type": "code",
   "execution_count": null,
   "id": "e25e5022-d4c7-4c48-bad4-4a9ac01cbc9d",
   "metadata": {},
   "outputs": [],
   "source": []
  }
 ],
 "metadata": {
  "kernelspec": {
   "display_name": "Python 3 (ipykernel)",
   "language": "python",
   "name": "python3"
  },
  "language_info": {
   "codemirror_mode": {
    "name": "ipython",
    "version": 3
   },
   "file_extension": ".py",
   "mimetype": "text/x-python",
   "name": "python",
   "nbconvert_exporter": "python",
   "pygments_lexer": "ipython3",
   "version": "3.11.6"
  }
 },
 "nbformat": 4,
 "nbformat_minor": 5
}
