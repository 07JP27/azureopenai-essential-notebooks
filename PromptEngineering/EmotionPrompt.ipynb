{
 "cells": [
  {
   "cell_type": "markdown",
   "id": "b9304c21-998c-4810-b7f1-f920d0fc63f6",
   "metadata": {},
   "source": [
    "# Emotion Prompt\n",
    "\n",
    "https://arxiv.org/abs/2307.11760\n",
    "\n",
    "以下のような感情に訴えかけるプロンプトを追加することで正確性・情報量が増加する手法\n",
    "- 「回答にはできれば確信をもってください」\n",
    "- 「それがあなたのファイナルアンサーですか？」\n",
    "- 「自分を信じて、限界を超えてください」\n",
    "- 「努力は報われます」\n",
    "- 「成長の機会だと考えて挑戦してください」"
   ]
  },
  {
   "cell_type": "code",
   "execution_count": 1,
   "id": "73cc88c5-e431-4c7c-b78a-0899d85dda44",
   "metadata": {},
   "outputs": [
    {
     "name": "stdout",
     "output_type": "stream",
     "text": [
      "Requirement already satisfied: openai in /opt/conda/lib/python3.11/site-packages (1.8.0)\n",
      "Requirement already satisfied: anyio<5,>=3.5.0 in /opt/conda/lib/python3.11/site-packages (from openai) (4.0.0)\n",
      "Requirement already satisfied: distro<2,>=1.7.0 in /opt/conda/lib/python3.11/site-packages (from openai) (1.9.0)\n",
      "Requirement already satisfied: httpx<1,>=0.23.0 in /opt/conda/lib/python3.11/site-packages (from openai) (0.26.0)\n",
      "Requirement already satisfied: pydantic<3,>=1.9.0 in /opt/conda/lib/python3.11/site-packages (from openai) (2.5.3)\n",
      "Requirement already satisfied: sniffio in /opt/conda/lib/python3.11/site-packages (from openai) (1.3.0)\n",
      "Requirement already satisfied: tqdm>4 in /opt/conda/lib/python3.11/site-packages (from openai) (4.66.1)\n",
      "Requirement already satisfied: typing-extensions<5,>=4.7 in /opt/conda/lib/python3.11/site-packages (from openai) (4.8.0)\n",
      "Requirement already satisfied: idna>=2.8 in /opt/conda/lib/python3.11/site-packages (from anyio<5,>=3.5.0->openai) (3.4)\n",
      "Requirement already satisfied: certifi in /opt/conda/lib/python3.11/site-packages (from httpx<1,>=0.23.0->openai) (2023.7.22)\n",
      "Requirement already satisfied: httpcore==1.* in /opt/conda/lib/python3.11/site-packages (from httpx<1,>=0.23.0->openai) (1.0.2)\n",
      "Requirement already satisfied: h11<0.15,>=0.13 in /opt/conda/lib/python3.11/site-packages (from httpcore==1.*->httpx<1,>=0.23.0->openai) (0.14.0)\n",
      "Requirement already satisfied: annotated-types>=0.4.0 in /opt/conda/lib/python3.11/site-packages (from pydantic<3,>=1.9.0->openai) (0.6.0)\n",
      "Requirement already satisfied: pydantic-core==2.14.6 in /opt/conda/lib/python3.11/site-packages (from pydantic<3,>=1.9.0->openai) (2.14.6)\n",
      "Requirement already satisfied: python-dotenv in /opt/conda/lib/python3.11/site-packages (1.0.0)\n"
     ]
    }
   ],
   "source": [
    "!python -m pip install openai\n",
    "!python -m pip install python-dotenv\n",
    "import json\n",
    "from openai import AzureOpenAI\n",
    "from dotenv import load_dotenv\n",
    "import os"
   ]
  },
  {
   "cell_type": "code",
   "execution_count": 2,
   "id": "7a7acb0b-45b8-44fa-8691-a743b6495561",
   "metadata": {},
   "outputs": [],
   "source": [
    "load_dotenv()\n",
    "deployment = os.environ['DEPLOYMENT']\n",
    "apikey = os.environ['API_KEY']\n",
    "base = os.environ['BASE']\n",
    "api_version=os.environ['API_VERSION']"
   ]
  },
  {
   "cell_type": "code",
   "execution_count": 3,
   "id": "df26caf8-f87d-4726-a4f8-b9393c2b067d",
   "metadata": {},
   "outputs": [],
   "source": [
    "client = AzureOpenAI(\n",
    "  azure_endpoint = base, \n",
    "  api_key=apikey,  \n",
    "  api_version=api_version\n",
    ")"
   ]
  },
  {
   "cell_type": "markdown",
   "id": "d92102bc-e20a-433b-94ec-c022bd0b4e70",
   "metadata": {},
   "source": [
    "# Emotion Promptを含まない場合"
   ]
  },
  {
   "cell_type": "code",
   "execution_count": 4,
   "id": "2319d724-0194-4e42-9c10-1512693047b3",
   "metadata": {},
   "outputs": [
    {
     "name": "stdout",
     "output_type": "stream",
     "text": [
      "日本には春、夏、秋、冬の四季があります。春は3月から5月までで、桜の花が咲く季節です。夏は6月から8月までで、暑く湿度の高い季節です。秋は9月から11月までで、紅葉が美しい季節です。冬は12月から2月までで、寒くなり雪が降ることもあります。四季の変化がはっきりしているため、日本では季節ごとにさまざまな行事や風物詩があります。\n"
     ]
    }
   ],
   "source": [
    "response = client.chat.completions.create(\n",
    "    model=deployment,\n",
    "    messages=[\n",
    "        {\"role\": \"system\", \"content\": \"You are an AI assistant.\"},\n",
    "        {\"role\": \"user\", \"content\": \"日本における四季とは？\"},\n",
    "    ],\n",
    "    temperature=0\n",
    ")\n",
    "\n",
    "answer = response.choices[0].message.content\n",
    "print(answer)"
   ]
  },
  {
   "cell_type": "markdown",
   "id": "e81f7d5e-cb6d-4d45-b58f-982fc964598a",
   "metadata": {},
   "source": [
    "# Emotion Promptを含む場合"
   ]
  },
  {
   "cell_type": "code",
   "execution_count": 5,
   "id": "ded88aa7-c917-40ff-921a-0aaf37d45ba6",
   "metadata": {},
   "outputs": [
    {
     "name": "stdout",
     "output_type": "stream",
     "text": [
      "日本は四季がはっきりと現れる国として知られています。四季は春、夏、秋、冬の四つに分けられます。\n",
      "\n",
      "春（はる）は、3月から5月にかけての季節です。この時期は桜（さくら）の花が咲き、日本中がピンク色に染まります。桜の花見（はなみ）は、日本の伝統的なイベントであり、多くの人々が公園や川沿いで花見を楽しむ姿が見られます。\n",
      "\n",
      "夏（なつ）は、6月から8月にかけての季節です。この時期は暑く湿度も高くなりますが、夏祭り（なつまつり）や花火大会（はなびたいかい）など、多くのイベントが開催されます。また、海やプールでの水遊びも人気です。\n",
      "\n",
      "秋（あき）は、9月から11月にかけての季節です。この時期は紅葉（もみじ）が美しく色づき、山や公園などで紅葉狩り（もみじがり）が楽しまれます。また、秋は食欲の秋とも言われ、収穫祭（しゅうかくさい）や食べ物の祭りも盛んに行われます。\n",
      "\n",
      "冬（ふゆ）は、12月から2月にかけての季節です。この時期は寒くなり、雪が降る地域もあります。クリスマスや年末年始の休暇を楽しむ人々が多く、スキーやスノーボードなどの冬のスポーツも盛んに行われます。\n",
      "\n",
      "以上が日本における四季の概要です。四季折々の風景やイベントを楽しむことができる日本の魅力を、ぜひ体験してみてください。\n"
     ]
    }
   ],
   "source": [
    "response = client.chat.completions.create(\n",
    "    model=deployment,\n",
    "    messages=[\n",
    "        {\"role\": \"system\", \"content\": \"You are an AI assistant.\"},\n",
    "        {\"role\": \"user\", \"content\": \"日本における四季とは？あなたならきっと豊富な回答をしてくれると信じています。自分を信じて限界を超えて回答してください。\"},\n",
    "    ],\n",
    "    temperature=0\n",
    ")\n",
    "\n",
    "answer = response.choices[0].message.content\n",
    "print(answer)"
   ]
  },
  {
   "cell_type": "code",
   "execution_count": null,
   "id": "e25e5022-d4c7-4c48-bad4-4a9ac01cbc9d",
   "metadata": {},
   "outputs": [],
   "source": []
  }
 ],
 "metadata": {
  "kernelspec": {
   "display_name": "Python 3 (ipykernel)",
   "language": "python",
   "name": "python3"
  },
  "language_info": {
   "codemirror_mode": {
    "name": "ipython",
    "version": 3
   },
   "file_extension": ".py",
   "mimetype": "text/x-python",
   "name": "python",
   "nbconvert_exporter": "python",
   "pygments_lexer": "ipython3",
   "version": "3.11.6"
  }
 },
 "nbformat": 4,
 "nbformat_minor": 5
}
