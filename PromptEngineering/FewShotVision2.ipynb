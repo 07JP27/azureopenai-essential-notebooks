{
 "cells": [
  {
   "cell_type": "markdown",
   "id": "fc09951a-55c9-4567-9989-4f6910aece57",
   "metadata": {},
   "source": [
    "# 画像のFew-Shot\n",
    "\n",
    "システムメッセージでのFew-Shotはテキストしか対応していないため、メッセージの履歴を使ってサンプルを与える。\n",
    "このサンプルの実行はGPT-4Vモデルが必要です。"
   ]
  },
  {
   "cell_type": "code",
   "execution_count": 1,
   "id": "f90f0e46-1c59-4d63-a21e-ecb12f53bdde",
   "metadata": {},
   "outputs": [
    {
     "name": "stdout",
     "output_type": "stream",
     "text": [
      "Requirement already satisfied: openai in /opt/conda/lib/python3.11/site-packages (1.8.0)\n",
      "Requirement already satisfied: anyio<5,>=3.5.0 in /opt/conda/lib/python3.11/site-packages (from openai) (4.0.0)\n",
      "Requirement already satisfied: distro<2,>=1.7.0 in /opt/conda/lib/python3.11/site-packages (from openai) (1.9.0)\n",
      "Requirement already satisfied: httpx<1,>=0.23.0 in /opt/conda/lib/python3.11/site-packages (from openai) (0.26.0)\n",
      "Requirement already satisfied: pydantic<3,>=1.9.0 in /opt/conda/lib/python3.11/site-packages (from openai) (2.5.3)\n",
      "Requirement already satisfied: sniffio in /opt/conda/lib/python3.11/site-packages (from openai) (1.3.0)\n",
      "Requirement already satisfied: tqdm>4 in /opt/conda/lib/python3.11/site-packages (from openai) (4.66.1)\n",
      "Requirement already satisfied: typing-extensions<5,>=4.7 in /opt/conda/lib/python3.11/site-packages (from openai) (4.8.0)\n",
      "Requirement already satisfied: idna>=2.8 in /opt/conda/lib/python3.11/site-packages (from anyio<5,>=3.5.0->openai) (3.4)\n",
      "Requirement already satisfied: certifi in /opt/conda/lib/python3.11/site-packages (from httpx<1,>=0.23.0->openai) (2023.7.22)\n",
      "Requirement already satisfied: httpcore==1.* in /opt/conda/lib/python3.11/site-packages (from httpx<1,>=0.23.0->openai) (1.0.2)\n",
      "Requirement already satisfied: h11<0.15,>=0.13 in /opt/conda/lib/python3.11/site-packages (from httpcore==1.*->httpx<1,>=0.23.0->openai) (0.14.0)\n",
      "Requirement already satisfied: annotated-types>=0.4.0 in /opt/conda/lib/python3.11/site-packages (from pydantic<3,>=1.9.0->openai) (0.6.0)\n",
      "Requirement already satisfied: pydantic-core==2.14.6 in /opt/conda/lib/python3.11/site-packages (from pydantic<3,>=1.9.0->openai) (2.14.6)\n",
      "Requirement already satisfied: python-dotenv in /opt/conda/lib/python3.11/site-packages (1.0.0)\n",
      "Requirement already satisfied: pillow in /opt/conda/lib/python3.11/site-packages (10.2.0)\n"
     ]
    }
   ],
   "source": [
    "!python -m pip install openai\n",
    "!python -m pip install python-dotenv\n",
    "!python -m pip install pillow\n",
    "import json\n",
    "from openai import AzureOpenAI\n",
    "from dotenv import load_dotenv\n",
    "from PIL import Image\n",
    "import os\n",
    "import base64"
   ]
  },
  {
   "cell_type": "code",
   "execution_count": 2,
   "id": "6e4518f3-9685-4c15-9bb3-a568cd6a928f",
   "metadata": {},
   "outputs": [],
   "source": [
    "load_dotenv()\n",
    "deployment = os.environ['DEPLOYMENT']\n",
    "apikey = os.environ['API_KEY']\n",
    "base = os.environ['BASE']\n",
    "api_version=os.environ['API_VERSION']"
   ]
  },
  {
   "cell_type": "code",
   "execution_count": 3,
   "id": "46124377-92fc-4df8-98e2-2fe88f192928",
   "metadata": {},
   "outputs": [],
   "source": [
    "client = AzureOpenAI(\n",
    "  azure_endpoint = base, \n",
    "  api_key=apikey,  \n",
    "  api_version=api_version\n",
    ")"
   ]
  },
  {
   "cell_type": "markdown",
   "id": "4b180c64-2538-430c-bf70-a5c415c04740",
   "metadata": {},
   "source": [
    "# 対象画像"
   ]
  },
  {
   "cell_type": "code",
   "execution_count": 5,
   "id": "c34d41a8-6fa4-461b-9949-332e7ca71c96",
   "metadata": {},
   "outputs": [
    {
     "data": {
      "image/jpeg": "[encoded data removed]",
      "image/png": "[encoded data removed]",
      "text/plain": [
       "<PIL.Image.Image image mode=RGB size=347x256>"
      ]
     },
     "execution_count": 5,
     "metadata": {},
     "output_type": "execute_result"
    }
   ],
   "source": [
    "target_filename = \"FewShotVisionImage/target2.png\"\n",
    "img = Image.open(target_filename)\n",
    "img.resize((img.width//3, img.height//3))"
   ]
  },
  {
   "cell_type": "markdown",
   "id": "93f11233-153e-4e80-90db-e195f934d819",
   "metadata": {},
   "source": [
    "# Few-Shot無しで呼び出し"
   ]
  },
  {
   "cell_type": "code",
   "execution_count": 6,
   "id": "b294af0c-859d-415e-a8fa-68c28df2db39",
   "metadata": {},
   "outputs": [],
   "source": [
    "with open(target_filename,\"rb\") as imagefile:\n",
    "    target_b64_string = base64.b64encode(imagefile.read()).decode('utf-8')"
   ]
  },
  {
   "cell_type": "code",
   "execution_count": 7,
   "id": "a83c9694-455d-4433-8022-8e10738af221",
   "metadata": {},
   "outputs": [
    {
     "name": "stdout",
     "output_type": "stream",
     "text": [
      "この画像には、2つの正方形が描かれています。右下にはスケールがあり、0から10mmまでの長さが示されています。正方形の辺の長さを導出するためには、スケールを使用して正方形の辺を測定する必要があります。しかし、画像からは正確な測定ができないため、正方形の辺の長さを正確に導出することはできません。実際には、物理的な定規やメジャーを使用して正方形の辺を測定する必要があります。\n"
     ]
    }
   ],
   "source": [
    "response = client.chat.completions.create(\n",
    "    model=deployment,\n",
    "    messages=[\n",
    "        {\n",
    "          \"role\": \"user\",\n",
    "          \"content\": [\n",
    "            {\"type\": \"text\",\"text\": \"この画像を説明してください。正方形の辺の長さを右下のスケールから推測してください。\"},\n",
    "            {\"type\": \"image_url\", \"image_url\": {\"url\": f\"data:image/jpeg;base64,{target_b64_string}\"}}\n",
    "          ]\n",
    "        }\n",
    "    ],\n",
    "    max_tokens=600,\n",
    "    temperature=0\n",
    ")\n",
    "\n",
    "answer = response.choices[0].message.content\n",
    "print(answer)"
   ]
  },
  {
   "cell_type": "markdown",
   "id": "01616b84-7f71-4fbc-8885-4f25fc6a2382",
   "metadata": {},
   "source": [
    "# Few-Shotを与える"
   ]
  },
  {
   "cell_type": "code",
   "execution_count": 16,
   "id": "014e798f-cbcd-43a7-bcb2-27e97868767a",
   "metadata": {},
   "outputs": [
    {
     "data": {
      "image/jpeg": "[encoded data removed]",
      "image/png": "[encoded data removed]",
      "text/plain": [
       "<PIL.Image.Image image mode=RGB size=347x256>"
      ]
     },
     "execution_count": 16,
     "metadata": {},
     "output_type": "execute_result"
    }
   ],
   "source": [
    "sample_filename = \"FewShotVisionImage/sample2.png\"\n",
    "img = Image.open(sample_filename)\n",
    "img.resize((img.width//3, img.height//3))"
   ]
  },
  {
   "cell_type": "code",
   "execution_count": 17,
   "id": "0e8c3328-e9fe-4161-8e59-f6966f236b9a",
   "metadata": {},
   "outputs": [],
   "source": [
    "with open(sample_filename,\"rb\") as imagefile:\n",
    "    sample_b64_string = base64.b64encode(imagefile.read()).decode('utf-8')"
   ]
  },
  {
   "cell_type": "code",
   "execution_count": 20,
   "id": "dcce802a-cdaf-4afd-8d80-0a88b16f68c6",
   "metadata": {},
   "outputs": [
    {
     "name": "stdout",
     "output_type": "stream",
     "text": [
      "この画像には正方形が２つ写っています。右下のスケールは10mmのスケールを表しています。このスケールの線の長さを各正方形の辺に重ね合わせて比率を導出すると、小さい方の正方形は辺の長さが7mm、大きい方の正方形は辺の長さが14mmであると推測されます。\n"
     ]
    }
   ],
   "source": [
    "response = client.chat.completions.create(\n",
    "    model=deployment,\n",
    "    messages=[\n",
    "        {\n",
    "          \"role\": \"user\",\n",
    "          \"content\": [\n",
    "            {\"type\": \"text\",\"text\": \"この画像を説明してください。丸の直径を右下のスケールから推測してください。\"},\n",
    "            {\"type\": \"image_url\", \"image_url\": {\"url\": f\"data:image/jpeg;base64,{sample_b64_string}\"}}\n",
    "          ]\n",
    "        },\n",
    "        {\"role\": \"assistant\", \"content\": \"この画像には丸が２つ写っています。右下のスケールは10mmのスケールを表しています。このスケールの線の長さを各丸に重ね合わせて比率を導出すると、小さい方の丸は直径が2mm、大きい方の丸は直径が10mmであると推測されます。\"},\n",
    "        {\n",
    "          \"role\": \"user\",\n",
    "          \"content\": [\n",
    "            {\"type\": \"text\",\"text\": \"この画像を説明してください。正方形の辺の長さを右下のスケールから推測してください。\"},\n",
    "            {\"type\": \"image_url\", \"image_url\": {\"url\": f\"data:image/jpeg;base64,{target_b64_string}\"}}\n",
    "          ]\n",
    "        },\n",
    "    ],\n",
    "    max_tokens=600,\n",
    "    temperature=0\n",
    ")\n",
    "\n",
    "answer = response.choices[0].message.content\n",
    "print(answer)"
   ]
  }
 ],
 "metadata": {
  "kernelspec": {
   "display_name": "Python 3 (ipykernel)",
   "language": "python",
   "name": "python3"
  },
  "language_info": {
   "codemirror_mode": {
    "name": "ipython",
    "version": 3
   },
   "file_extension": ".py",
   "mimetype": "text/x-python",
   "name": "python",
   "nbconvert_exporter": "python",
   "pygments_lexer": "ipython3",
   "version": "3.11.6"
  }
 },
 "nbformat": 4,
 "nbformat_minor": 5
}
