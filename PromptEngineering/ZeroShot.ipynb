{
 "cells": [
  {
   "cell_type": "markdown",
   "id": "b9304c21-998c-4810-b7f1-f920d0fc63f6",
   "metadata": {},
   "source": [
    "# Zero-Shotプロンプティング\n",
    "\n",
    "汎用的なタスクであれば例示などしなくても指示を行うだけでタスクを実行できる"
   ]
  },
  {
   "cell_type": "code",
   "execution_count": 1,
   "id": "73cc88c5-e431-4c7c-b78a-0899d85dda44",
   "metadata": {},
   "outputs": [
    {
     "name": "stdout",
     "output_type": "stream",
     "text": [
      "Requirement already satisfied: openai in /opt/conda/lib/python3.11/site-packages (1.8.0)\n",
      "Requirement already satisfied: anyio<5,>=3.5.0 in /opt/conda/lib/python3.11/site-packages (from openai) (4.0.0)\n",
      "Requirement already satisfied: distro<2,>=1.7.0 in /opt/conda/lib/python3.11/site-packages (from openai) (1.9.0)\n",
      "Requirement already satisfied: httpx<1,>=0.23.0 in /opt/conda/lib/python3.11/site-packages (from openai) (0.26.0)\n",
      "Requirement already satisfied: pydantic<3,>=1.9.0 in /opt/conda/lib/python3.11/site-packages (from openai) (2.5.3)\n",
      "Requirement already satisfied: sniffio in /opt/conda/lib/python3.11/site-packages (from openai) (1.3.0)\n",
      "Requirement already satisfied: tqdm>4 in /opt/conda/lib/python3.11/site-packages (from openai) (4.66.1)\n",
      "Requirement already satisfied: typing-extensions<5,>=4.7 in /opt/conda/lib/python3.11/site-packages (from openai) (4.8.0)\n",
      "Requirement already satisfied: idna>=2.8 in /opt/conda/lib/python3.11/site-packages (from anyio<5,>=3.5.0->openai) (3.4)\n",
      "Requirement already satisfied: certifi in /opt/conda/lib/python3.11/site-packages (from httpx<1,>=0.23.0->openai) (2023.7.22)\n",
      "Requirement already satisfied: httpcore==1.* in /opt/conda/lib/python3.11/site-packages (from httpx<1,>=0.23.0->openai) (1.0.2)\n",
      "Requirement already satisfied: h11<0.15,>=0.13 in /opt/conda/lib/python3.11/site-packages (from httpcore==1.*->httpx<1,>=0.23.0->openai) (0.14.0)\n",
      "Requirement already satisfied: annotated-types>=0.4.0 in /opt/conda/lib/python3.11/site-packages (from pydantic<3,>=1.9.0->openai) (0.6.0)\n",
      "Requirement already satisfied: pydantic-core==2.14.6 in /opt/conda/lib/python3.11/site-packages (from pydantic<3,>=1.9.0->openai) (2.14.6)\n",
      "Requirement already satisfied: python-dotenv in /opt/conda/lib/python3.11/site-packages (1.0.0)\n"
     ]
    }
   ],
   "source": [
    "!python -m pip install openai\n",
    "!python -m pip install python-dotenv\n",
    "import json\n",
    "from openai import AzureOpenAI\n",
    "from dotenv import load_dotenv\n",
    "import os"
   ]
  },
  {
   "cell_type": "code",
   "execution_count": 2,
   "id": "7a7acb0b-45b8-44fa-8691-a743b6495561",
   "metadata": {},
   "outputs": [],
   "source": [
    "load_dotenv()\n",
    "deployment = os.environ['DEPLOYMENT']\n",
    "apikey = os.environ['API_KEY']\n",
    "base = os.environ['BASE']\n",
    "api_version=os.environ['API_VERSION']"
   ]
  },
  {
   "cell_type": "code",
   "execution_count": 3,
   "id": "df26caf8-f87d-4726-a4f8-b9393c2b067d",
   "metadata": {},
   "outputs": [],
   "source": [
    "client = AzureOpenAI(\n",
    "  azure_endpoint = base, \n",
    "  api_key=apikey,  \n",
    "  api_version=api_version\n",
    ")"
   ]
  },
  {
   "cell_type": "markdown",
   "id": "d92102bc-e20a-433b-94ec-c022bd0b4e70",
   "metadata": {},
   "source": [
    "# 例1"
   ]
  },
  {
   "cell_type": "code",
   "execution_count": 4,
   "id": "2319d724-0194-4e42-9c10-1512693047b3",
   "metadata": {},
   "outputs": [
    {
     "name": "stdout",
     "output_type": "stream",
     "text": [
      "肯定\n"
     ]
    }
   ],
   "source": [
    "prompt = \"\"\"\n",
    "次の文章の休暇中の感情を中立、否定、肯定の中から分類してください。\n",
    "###\n",
    "休暇が始まるまでは辛かったのですが、休暇中は最高でした。\n",
    "感情：\n",
    "\"\"\"\n",
    "\n",
    "response = client.chat.completions.create(\n",
    "    model=deployment,\n",
    "    messages=[\n",
    "        {\"role\": \"system\", \"content\": \"You are an AI assistant.\"},\n",
    "        {\"role\": \"user\", \"content\": prompt},\n",
    "    ],\n",
    "    temperature=0\n",
    ")\n",
    "\n",
    "answer = response.choices[0].message.content\n",
    "print(answer)"
   ]
  },
  {
   "cell_type": "markdown",
   "id": "e81f7d5e-cb6d-4d45-b58f-982fc964598a",
   "metadata": {},
   "source": [
    "# 例2"
   ]
  },
  {
   "cell_type": "code",
   "execution_count": 9,
   "id": "ded88aa7-c917-40ff-921a-0aaf37d45ba6",
   "metadata": {},
   "outputs": [
    {
     "name": "stdout",
     "output_type": "stream",
     "text": [
      "銀行員\n"
     ]
    }
   ],
   "source": [
    "prompt = \"\"\"\n",
    "次の文章からその人物が就業していると考えられる職業を抽出してください。\n",
    "###\n",
    "彼は勤務している銀行の部下と面談をした後に体調が優れなかったので医者に行った。\n",
    "職業：\n",
    "\"\"\"\n",
    "\n",
    "response = client.chat.completions.create(\n",
    "    model=deployment,\n",
    "    messages=[\n",
    "        {\"role\": \"system\", \"content\": \"You are an AI assistant.\"},\n",
    "        {\"role\": \"user\", \"content\": prompt},\n",
    "    ],\n",
    "    temperature=0\n",
    ")\n",
    "\n",
    "answer = response.choices[0].message.content\n",
    "print(answer)"
   ]
  },
  {
   "cell_type": "code",
   "execution_count": null,
   "id": "e25e5022-d4c7-4c48-bad4-4a9ac01cbc9d",
   "metadata": {},
   "outputs": [],
   "source": []
  }
 ],
 "metadata": {
  "kernelspec": {
   "display_name": "Python 3 (ipykernel)",
   "language": "python",
   "name": "python3"
  },
  "language_info": {
   "codemirror_mode": {
    "name": "ipython",
    "version": 3
   },
   "file_extension": ".py",
   "mimetype": "text/x-python",
   "name": "python",
   "nbconvert_exporter": "python",
   "pygments_lexer": "ipython3",
   "version": "3.11.6"
  }
 },
 "nbformat": 4,
 "nbformat_minor": 5
}
