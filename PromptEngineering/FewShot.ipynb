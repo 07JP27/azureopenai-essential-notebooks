{
 "cells": [
  {
   "cell_type": "markdown",
   "id": "b9304c21-998c-4810-b7f1-f920d0fc63f6",
   "metadata": {},
   "source": [
    "# Few-Shotプロンプティング\n",
    "\n",
    "Zero-Shotでは解くことができないような複雑な、またはLLMが学習していないような特定のドメインについてのタスクに対して「いくつかの例」を挙げて回答を生成していく手法"
   ]
  },
  {
   "cell_type": "code",
   "execution_count": 9,
   "id": "73cc88c5-e431-4c7c-b78a-0899d85dda44",
   "metadata": {},
   "outputs": [
    {
     "name": "stdout",
     "output_type": "stream",
     "text": [
      "Requirement already satisfied: openai in /opt/conda/lib/python3.11/site-packages (1.8.0)\n",
      "Requirement already satisfied: anyio<5,>=3.5.0 in /opt/conda/lib/python3.11/site-packages (from openai) (4.0.0)\n",
      "Requirement already satisfied: distro<2,>=1.7.0 in /opt/conda/lib/python3.11/site-packages (from openai) (1.9.0)\n",
      "Requirement already satisfied: httpx<1,>=0.23.0 in /opt/conda/lib/python3.11/site-packages (from openai) (0.26.0)\n",
      "Requirement already satisfied: pydantic<3,>=1.9.0 in /opt/conda/lib/python3.11/site-packages (from openai) (2.5.3)\n",
      "Requirement already satisfied: sniffio in /opt/conda/lib/python3.11/site-packages (from openai) (1.3.0)\n",
      "Requirement already satisfied: tqdm>4 in /opt/conda/lib/python3.11/site-packages (from openai) (4.66.1)\n",
      "Requirement already satisfied: typing-extensions<5,>=4.7 in /opt/conda/lib/python3.11/site-packages (from openai) (4.8.0)\n",
      "Requirement already satisfied: idna>=2.8 in /opt/conda/lib/python3.11/site-packages (from anyio<5,>=3.5.0->openai) (3.4)\n",
      "Requirement already satisfied: certifi in /opt/conda/lib/python3.11/site-packages (from httpx<1,>=0.23.0->openai) (2023.7.22)\n",
      "Requirement already satisfied: httpcore==1.* in /opt/conda/lib/python3.11/site-packages (from httpx<1,>=0.23.0->openai) (1.0.2)\n",
      "Requirement already satisfied: h11<0.15,>=0.13 in /opt/conda/lib/python3.11/site-packages (from httpcore==1.*->httpx<1,>=0.23.0->openai) (0.14.0)\n",
      "Requirement already satisfied: annotated-types>=0.4.0 in /opt/conda/lib/python3.11/site-packages (from pydantic<3,>=1.9.0->openai) (0.6.0)\n",
      "Requirement already satisfied: pydantic-core==2.14.6 in /opt/conda/lib/python3.11/site-packages (from pydantic<3,>=1.9.0->openai) (2.14.6)\n"
     ]
    }
   ],
   "source": [
    "!python -m pip install openai\n",
    "import json\n",
    "from openai import AzureOpenAI"
   ]
  },
  {
   "cell_type": "code",
   "execution_count": 10,
   "id": "7a7acb0b-45b8-44fa-8691-a743b6495561",
   "metadata": {},
   "outputs": [],
   "source": [
    "# 次の３つの値をご自身のものに置き換えてください。Replace the following three values with your resources. \n",
    "# 次の３つの値をご自身のものに置き換えてください。Replace the following three values with your resources. \n",
    "deployment = '<your-aoai-deployment-name>'\n",
    "apikey = '<your-aoai-api-key>'\n",
    "base = 'https://<your-aoai-resource-name>.openai.azure.com'\n",
    "api_version=\"2023-12-01-preview\"\n",
    "\n",
    "deployment = 'gpt-4'\n",
    "apikey = '286110a95b404720b4f60b122702cdc8'\n",
    "base = 'https://jp12-gpt4.openai.azure.com'\n",
    "api_version=\"2023-12-01-preview\""
   ]
  },
  {
   "cell_type": "code",
   "execution_count": 11,
   "id": "df26caf8-f87d-4726-a4f8-b9393c2b067d",
   "metadata": {},
   "outputs": [],
   "source": [
    "client = AzureOpenAI(\n",
    "  azure_endpoint = base, \n",
    "  api_key=apikey,  \n",
    "  api_version=api_version\n",
    ")"
   ]
  },
  {
   "cell_type": "markdown",
   "id": "d92102bc-e20a-433b-94ec-c022bd0b4e70",
   "metadata": {},
   "source": [
    "# 例1"
   ]
  },
  {
   "cell_type": "code",
   "execution_count": 13,
   "id": "2319d724-0194-4e42-9c10-1512693047b3",
   "metadata": {},
   "outputs": [
    {
     "name": "stdout",
     "output_type": "stream",
     "text": [
      "施設\n"
     ]
    }
   ],
   "source": [
    "prompt = \"\"\"\n",
    "次の例に倣って文章を分類してください。\n",
    "\n",
    "文章：会議室がいつも埋まっていて困ります。\n",
    "分類：施設\n",
    "文章：就業時間が固定のため柔軟な働き方ができません。\n",
    "分類：人事\n",
    "文章：エレベーターホールがいつも行列しています。\n",
    "分類：施設\n",
    "文章：有給休暇が少ない\n",
    "分類：福利厚生\n",
    "文章：給料が少なくてこの先が心配です\n",
    "分類：待遇\n",
    "文章：出退勤する際に必ず喫煙室の前を通る必要があり、匂いが気になります。\n",
    "分類：\n",
    "\"\"\"\n",
    "\n",
    "response = client.chat.completions.create(\n",
    "    model=deployment,\n",
    "    messages=[\n",
    "        {\"role\": \"system\", \"content\": \"You are an AI assistant.\"},\n",
    "        {\"role\": \"user\", \"content\": prompt},\n",
    "    ],\n",
    "    temperature=0\n",
    ")\n",
    "\n",
    "answer = response.choices[0].message.content\n",
    "print(answer)"
   ]
  },
  {
   "cell_type": "markdown",
   "id": "e81f7d5e-cb6d-4d45-b58f-982fc964598a",
   "metadata": {},
   "source": [
    "# 例2"
   ]
  },
  {
   "cell_type": "code",
   "execution_count": 14,
   "id": "ded88aa7-c917-40ff-921a-0aaf37d45ba6",
   "metadata": {},
   "outputs": [
    {
     "name": "stdout",
     "output_type": "stream",
     "text": [
      "日時：04/02 17:00\n",
      "出発：成田\n",
      "到着：グアム\n",
      "航空会社：日本航空\n",
      "クラス：エコノミー\n",
      "枚数：4\n"
     ]
    }
   ],
   "source": [
    "prompt = \"\"\"\n",
    "次の例に倣って文章から要素を抽出してください。\n",
    "\n",
    "1/22の13時に羽田空港から出発するロサンゼルス空港行きのユナイテッド航空をエコノミークラスで２枚お願いします。\n",
    "日時：01/22 13:00\n",
    "出発：羽田\n",
    "到着：ロサンゼルス\n",
    "航空会社：ユナイテッド航空\n",
    "クラス：エコノミー\n",
    "枚数：２\n",
    "\n",
    "4/2の17時に成田空港から出発するグアム行きの日本航空をエコノミークラスで4枚お願いします。\n",
    "\"\"\"\n",
    "\n",
    "response = client.chat.completions.create(\n",
    "    model=deployment,\n",
    "    messages=[\n",
    "        {\"role\": \"system\", \"content\": \"You are an AI assistant.\"},\n",
    "        {\"role\": \"user\", \"content\": prompt},\n",
    "    ],\n",
    "    temperature=0\n",
    ")\n",
    "\n",
    "answer = response.choices[0].message.content\n",
    "print(answer)"
   ]
  },
  {
   "cell_type": "code",
   "execution_count": null,
   "id": "e25e5022-d4c7-4c48-bad4-4a9ac01cbc9d",
   "metadata": {},
   "outputs": [],
   "source": []
  }
 ],
 "metadata": {
  "kernelspec": {
   "display_name": "Python 3 (ipykernel)",
   "language": "python",
   "name": "python3"
  },
  "language_info": {
   "codemirror_mode": {
    "name": "ipython",
    "version": 3
   },
   "file_extension": ".py",
   "mimetype": "text/x-python",
   "name": "python",
   "nbconvert_exporter": "python",
   "pygments_lexer": "ipython3",
   "version": "3.11.6"
  }
 },
 "nbformat": 4,
 "nbformat_minor": 5
}
