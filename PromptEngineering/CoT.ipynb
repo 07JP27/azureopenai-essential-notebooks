{
 "cells": [
  {
   "cell_type": "markdown",
   "id": "b9304c21-998c-4810-b7f1-f920d0fc63f6",
   "metadata": {},
   "source": [
    "# Chain-of-Thought (CoT) - 思考の連鎖\n",
    "\n",
    "中間的な推論ステップを介して複雑な推論能力を可能にする手法"
   ]
  },
  {
   "cell_type": "code",
   "execution_count": 1,
   "id": "73cc88c5-e431-4c7c-b78a-0899d85dda44",
   "metadata": {},
   "outputs": [
    {
     "name": "stdout",
     "output_type": "stream",
     "text": [
      "Requirement already satisfied: openai in /opt/conda/lib/python3.11/site-packages (1.8.0)\n",
      "Requirement already satisfied: anyio<5,>=3.5.0 in /opt/conda/lib/python3.11/site-packages (from openai) (4.0.0)\n",
      "Requirement already satisfied: distro<2,>=1.7.0 in /opt/conda/lib/python3.11/site-packages (from openai) (1.9.0)\n",
      "Requirement already satisfied: httpx<1,>=0.23.0 in /opt/conda/lib/python3.11/site-packages (from openai) (0.26.0)\n",
      "Requirement already satisfied: pydantic<3,>=1.9.0 in /opt/conda/lib/python3.11/site-packages (from openai) (2.5.3)\n",
      "Requirement already satisfied: sniffio in /opt/conda/lib/python3.11/site-packages (from openai) (1.3.0)\n",
      "Requirement already satisfied: tqdm>4 in /opt/conda/lib/python3.11/site-packages (from openai) (4.66.1)\n",
      "Requirement already satisfied: typing-extensions<5,>=4.7 in /opt/conda/lib/python3.11/site-packages (from openai) (4.8.0)\n",
      "Requirement already satisfied: idna>=2.8 in /opt/conda/lib/python3.11/site-packages (from anyio<5,>=3.5.0->openai) (3.4)\n",
      "Requirement already satisfied: certifi in /opt/conda/lib/python3.11/site-packages (from httpx<1,>=0.23.0->openai) (2023.7.22)\n",
      "Requirement already satisfied: httpcore==1.* in /opt/conda/lib/python3.11/site-packages (from httpx<1,>=0.23.0->openai) (1.0.2)\n",
      "Requirement already satisfied: h11<0.15,>=0.13 in /opt/conda/lib/python3.11/site-packages (from httpcore==1.*->httpx<1,>=0.23.0->openai) (0.14.0)\n",
      "Requirement already satisfied: annotated-types>=0.4.0 in /opt/conda/lib/python3.11/site-packages (from pydantic<3,>=1.9.0->openai) (0.6.0)\n",
      "Requirement already satisfied: pydantic-core==2.14.6 in /opt/conda/lib/python3.11/site-packages (from pydantic<3,>=1.9.0->openai) (2.14.6)\n"
     ]
    }
   ],
   "source": [
    "!python -m pip install openai\n",
    "import json\n",
    "from openai import AzureOpenAI"
   ]
  },
  {
   "cell_type": "code",
   "execution_count": 10,
   "id": "7a7acb0b-45b8-44fa-8691-a743b6495561",
   "metadata": {},
   "outputs": [],
   "source": [
    "# 次の３つの値をご自身のものに置き換えてください。Replace the following three values with your resources. \n",
    "# 次の３つの値をご自身のものに置き換えてください。Replace the following three values with your resources. \n",
    "deployment = '<your-aoai-deployment-name>'\n",
    "apikey = '<your-aoai-api-key>'\n",
    "base = 'https://<your-aoai-resource-name>.openai.azure.com'\n",
    "api_version=\"2023-12-01-preview\""
   ]
  },
  {
   "cell_type": "code",
   "execution_count": 11,
   "id": "df26caf8-f87d-4726-a4f8-b9393c2b067d",
   "metadata": {},
   "outputs": [],
   "source": [
    "client = AzureOpenAI(\n",
    "  azure_endpoint = base, \n",
    "  api_key=apikey,  \n",
    "  api_version=api_version\n",
    ")"
   ]
  },
  {
   "cell_type": "markdown",
   "id": "d92102bc-e20a-433b-94ec-c022bd0b4e70",
   "metadata": {},
   "source": [
    "# CoTを使わない（正しくタスク実行できない）ケース\n",
    "※gpt-4ではCoTを使わなくても解くことできるタスクが増えています。gpt-4を使っている場合は解けてしまう場合があります。"
   ]
  },
  {
   "cell_type": "code",
   "execution_count": 18,
   "id": "2319d724-0194-4e42-9c10-1512693047b3",
   "metadata": {},
   "outputs": [
    {
     "name": "stdout",
     "output_type": "stream",
     "text": [
      "15までの素数は2, 3, 5, 7, 11, 13です。奇数のみを抜き出すと3と7と11と13です。これらを足して3を掛けると、(3 + 7 + 11 + 13) * 3 = 34 * 3 = 102です。\n"
     ]
    }
   ],
   "source": [
    "prompt = \"\"\"\n",
    "15までの素数から奇数のみを抜き出して全て足して3を掛けるといくつですか?\n",
    "\"\"\"\n",
    "\n",
    "response = client.chat.completions.create(\n",
    "    model=deployment,\n",
    "    messages=[\n",
    "        {\"role\": \"system\", \"content\": \"You are an AI assistant.\"},\n",
    "        {\"role\": \"user\", \"content\": prompt},\n",
    "    ],\n",
    "    temperature=0\n",
    ")\n",
    "\n",
    "answer = response.choices[0].message.content\n",
    "print(answer)"
   ]
  },
  {
   "cell_type": "markdown",
   "id": "e81f7d5e-cb6d-4d45-b58f-982fc964598a",
   "metadata": {},
   "source": [
    "# CoTを使うケース"
   ]
  },
  {
   "cell_type": "code",
   "execution_count": 19,
   "id": "ded88aa7-c917-40ff-921a-0aaf37d45ba6",
   "metadata": {},
   "outputs": [
    {
     "name": "stdout",
     "output_type": "stream",
     "text": [
      "15までの素数は2,3,5,7,11,13です。この中から奇数のみを抜き出すと3,5,7,11,13です。\n",
      "これらを足すと39です。そして3を掛けると117になります。\n"
     ]
    }
   ],
   "source": [
    "prompt = \"\"\"\n",
    "10までの素数から奇数のみを抜き出して全て足して3を掛けるといくつですか?\n",
    "答え：10までの素数は2,3,5,7です。この中から奇数のみを抜き出すと3,5,7です。\n",
    "これらを足すと15です。そして3を掛けると45になります。\n",
    "\n",
    "15までの素数から奇数のみを抜き出して全て足して3を掛けるといくつですか?\n",
    "答え：\n",
    "\"\"\"\n",
    "\n",
    "response = client.chat.completions.create(\n",
    "    model=deployment,\n",
    "    messages=[\n",
    "        {\"role\": \"system\", \"content\": \"You are an AI assistant.\"},\n",
    "        {\"role\": \"user\", \"content\": prompt},\n",
    "    ],\n",
    "    temperature=0\n",
    ")\n",
    "\n",
    "answer = response.choices[0].message.content\n",
    "print(answer)"
   ]
  }
 ],
 "metadata": {
  "kernelspec": {
   "display_name": "Python 3 (ipykernel)",
   "language": "python",
   "name": "python3"
  },
  "language_info": {
   "codemirror_mode": {
    "name": "ipython",
    "version": 3
   },
   "file_extension": ".py",
   "mimetype": "text/x-python",
   "name": "python",
   "nbconvert_exporter": "python",
   "pygments_lexer": "ipython3",
   "version": "3.11.6"
  }
 },
 "nbformat": 4,
 "nbformat_minor": 5
}
